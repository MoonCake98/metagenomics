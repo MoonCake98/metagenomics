{
 "cells": [
  {
   "cell_type": "markdown",
   "metadata": {
    "vscode": {
     "languageId": "plaintext"
    }
   },
   "source": [
    "# <span style=\"color:green\"> **Effects of bioplastic on soils microbiome** </span>\n",
    "### <span style=\"color:green\"> A metagenomics analyses of soils micriobiome with different amounts of bioplastic </span>\n",
    " \n",
    "##### By: Akastia Christo, Tai Vo, Stijn Vermeulen & Kasthury Inparajah"
   ]
  },
  {
   "cell_type": "markdown",
   "metadata": {},
   "source": [
    "## materials and methods\n"
   ]
  },
  {
   "cell_type": "markdown",
   "metadata": {},
   "source": [
    "For more in depth information on the used materials and methods, see our github page [https://github.com/MoonCake98/metagenomics](https://github.com/MoonCake98/metagenomics)"
   ]
  },
  {
   "cell_type": "markdown",
   "metadata": {},
   "source": [
    "### Data\n",
    "For the data in this study, the 6 barcodes of 6 samples were used, where each of the 3 conditions corresponded to 2 samples.\n",
    "\n",
    "The data acquired was from an experiment performed in february of 2024 by bachelor intern BML Ariana vd Wal under the supervision\n",
    "of dr. Jeroen Siebring (KC-BBE). The kits used for the data extraction of the samples were Qiagen PowerSOIL pro ki for DNA-prep, Oxford Nanopore Technologies R10.4 flowcells for the WGS sequencing and the SQK-RBK-114.24 Rapid Barcoding Kit for the multiplexing of the samples\n",
    "\n",
    "The barcodes correspond directly to the sample ID's.\n",
    "\n",
    "The experiment consisted of the following 3 groups of soil:\n",
    "- contaminated with finely ground PHB\n",
    "- contaminated with coarsely ground PHB\n",
    "- a control group\n",
    "\n",
    "In the table beneath this text you can find the samples and their descriptions.\n",
    "\n",
    "| ID | Barcode | Owner  | Description      | Group         | Prepped DNA ng/ul | Sample mass (g) | Post-PCR Cleanup: 16s |\n",
    "|----|---------|--------|------------------|---------------|-------------------|-----------------|-----------------------|\n",
    "| 1  | 1       | Ariana | Exp 3 PHBV 31/1  | Roughly ground | 28.5              | 0.193           |                       |\n",
    "| 2  | 2       | Ariana | Exp 3 GC 31/1    | Control       | 228               | 0.255           |                       |\n",
    "| 3  | 3       | Ariana | Exp 3 GC 31/1    | Control       | 55.5              | 0.347           |                       |\n",
    "| 4  | 4       | Ariana | Exp 3 PHBV 31/1  | Roughly ground | 227               | 0.312           |                       |\n",
    "| 5  | 5       | Ariana | Exp 3 PHB 31/1   | Finely ground | 47.0              | 0.289           |                       |\n",
    "| 6  | 6       | Ariana | Exp 3 PHB 31/1   | Finely ground | 170               | 0.357           |                       |\n",
    "\n",
    "The information above stems from a README and a teams comment (M. Herber, personal communication, March 2025)"
   ]
  },
  {
   "cell_type": "markdown",
   "metadata": {},
   "source": [
    "### Kraken2\n",
    "\n",
    "Kraken2 is a readmapping tool and taxonomic profiler that was chosen to be implemented in this pipeline because of it's high efficiency, accuracy and well documented use in similair usecases\n",
    "\n",
    "Following the quality control Kraken2 was used to classify our metagenomic reads taxonomically, Kraken2 uses a k-mer based algorithm that classifies reads byh comparing the resulting k-mers to a reference database. The reference database used was the standard k2 database (v2.1.2), which is composed of viral, fungal, archaeal, and bacterial genomes. \n",
    "Kraken2 was executed using default settings. The output files were generated in Kraken2’s default format, reporting taxonomic IDs and confidence scores for each read. (Wood et al., 2019)"
   ]
  },
  {
   "cell_type": "markdown",
   "metadata": {
    "collapsed": false
   },
   "source": [
    "### Bracken\n",
    "Bracken is a bayesian reestimation tool, meant for the extimation of taxonomic abundance. \n",
    "\n",
    "We used bracken to classify our taxonomy to species level. Bracken assigns reads using kraken2's output to estimate the abundance of a taxonomy level and simplify the output for easier visualisations. We ran bracken using default setting on species to generate the default output. (Lu et al., 2017)"
   ]
  },
  {
   "cell_type": "markdown",
   "metadata": {},
   "source": [
    "### HUMAnN3\n",
    "HUMAnN3 is a tool designed for the profiling of microbial pathways an  was selected for implementation in this pipeline due to its reliablility, and compatibility with metagenomic data. We used it because of it's reliability and widespread use in the metagenomics field.\n",
    "\n",
    "It was used as a method profile microbial metabolic pathways, and further information on the details of how it was run can be found within this project's github repository\n",
    "(Integrating Taxonomic, Functional, and Strain-Level Profiling of Diverse Microbial Communities with bioBakery 3 | eLife, n.d.)"
   ]
  },
  {
   "cell_type": "markdown",
   "metadata": {},
   "source": [
    "### programming languages and packages\n",
    "\n",
    "#### R language and used packages\n",
    "\n",
    "The R language was mainly used for the purpose of visualisation.\n",
    "\n",
    "Tidyverse, virisdis and MinIONQC are R language packages we used for this project. The tidyverese suite of packages used for manipulating and generally visualising tidy format data. Viridis is an R package that's compatible with the tidyverse suite and meant to provide advanced colour palatte control. The MinIONQC package is meant for the quality control of MinION data.\n",
    "\n",
    "These R packeges were used for the purpose of visualising our Bracken and Humann3 output, and the quality control of our raw MinION data.\n",
    "\n",
    "#### python\n",
    "\n",
    "The python language was used for the purposes of data manipulation.\n",
    "\n",
    "The packages re, csv, pandas and argparse were used for the purposes of data manipulation. Specifically csv for the reading of csv files, pandas for the combining of data, re for the regex searching of files and argparse for the parsing of arguments.\n",
    "\n",
    "These python packages were used for the purposes of manipulating and converting the bracken output."
   ]
  },
  {
   "cell_type": "markdown",
   "metadata": {},
   "source": [
    "### snakemake\n",
    "\n",
    "Snakemake is a workflow manager meant for the creation of reproducible and scalable data analysis. We chose to use snakemake because it was part of the requirements for this assignment.\n",
    "\n",
    "We used snakemake for the purposes of reproducibility and it's how all the above tools and mentioned programming languages and packages were used. (Mölder et al., 2021)\n",
    "\n"
   ]
  },
  {
   "cell_type": "markdown",
   "metadata": {},
   "source": [
    "## references\n",
    "\n"
   ]
  },
  {
   "cell_type": "markdown",
   "metadata": {},
   "source": [
    "- Wood, D. E., Lu, J., & Langmead, B. (2019). Improved metagenomic analysis with Kraken 2. Genome Biology, 20(1), 257. https://doi.org/10.1186/s13059-019-1891-0\n",
    "- Lu, J., Breitwieser, F. P., Thielen, P., & Salzberg, S. L. (2017). Bracken: estimating species abundance in metagenomics data. PeerJ Computer Science, 3, e104. https://doi.org/10.7717/peerj-cs.104\n",
    "- Integrating taxonomic, functional, and strain-level profiling of diverse microbial communities with bioBakery 3 | eLife. (n.d.). Retrieved 10 April 2025, from https://elifesciences.org/articles/65088\n",
    "- Mölder, F., Jablonski, K. P., Letcher, B., Hall, M. B., Tomkins-Tinch, C. H., Sochat, V., Forster, J., Lee, S., Twardziok, S. O., Kanitz, A., Wilm, A., Holtgrewe, M., Rahmann, S., Nahnsen, S., & Köster, J. (2021). Sustainable data analysis with Snakemake. F1000Research, 10, 33. https://doi.org/10.12688/f1000research.29032.2"
   ]
  }
 ],
 "metadata": {
  "kernelspec": {
   "display_name": "base",
   "language": "python",
   "name": "python3"
  },
  "language_info": {
   "name": "python",
   "version": "3.12.7"
  }
 },
 "nbformat": 4,
 "nbformat_minor": 2
}
