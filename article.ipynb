{
 "cells": [
  {
   "cell_type": "markdown",
   "metadata": {
    "vscode": {
     "languageId": "plaintext"
    }
   },
   "source": [
    "# <span style=\"color:green\"> **Effects of bioplastic on soils microbiome** </span>\n",
    "### <span style=\"color:green\"> A metagenomics analyses of soils micriobiome with different amounts of bioplastic </span>\n",
    " \n",
    "##### By: Akastia Christo, Tai Vo, Stijn Vermeulen & Kasthury Inparajah"
   ]
  },
  {
   "cell_type": "markdown",
   "metadata": {},
   "source": [
    "## materials and methods\n"
   ]
  },
  {
   "cell_type": "markdown",
   "metadata": {},
   "source": [
    "### Data\n",
    "For the data in this study, the 6 barcodes of 6 samples were used, where each of the 3 conditions corresponded to 2 samples.\n",
    "\n",
    "The data acquired was from an experiment performed in february of 2024 by bachelor intern BML Ariana vd Wal under the supervision\n",
    "of dr. Jeroen Siebring (KC-BBE). The kits used for the data extraction of the samples were Qiagen PowerSOIL pro ki for DNA-prep, Oxford Nanopore Technologies R10.4 flowcells for the WGS sequencing and the SQK-RBK-114.24 Rapid Barcoding Kit for the multiplexing of the samples\n",
    "\n",
    "The barcodes correspond directly to the sample ID's.\n",
    "\n",
    "The experiment consisted of the following 3 groups of soil:\n",
    "- contaminated with finely ground PHB\n",
    "- contaminated with coarsely ground PHB\n",
    "- a control group\n",
    "\n",
    "In the table beneath this text you can find the samples and their descriptions.\n",
    "\n",
    "| ID | Barcode | Owner  | Description      | Group         | Prepped DNA ng/ul | Sample mass (g) | Post-PCR Cleanup: 16s |\n",
    "|----|---------|--------|------------------|---------------|-------------------|-----------------|-----------------------|\n",
    "| 1  | 1       | Ariana | Exp 3 PHBV 31/1  | Roughly ground | 28.5              | 0.193           |                       |\n",
    "| 2  | 2       | Ariana | Exp 3 GC 31/1    | Control       | 228               | 0.255           |                       |\n",
    "| 3  | 3       | Ariana | Exp 3 GC 31/1    | Control       | 55.5              | 0.347           |                       |\n",
    "| 4  | 4       | Ariana | Exp 3 PHBV 31/1  | Roughly ground | 227               | 0.312           |                       |\n",
    "| 5  | 5       | Ariana | Exp 3 PHB 31/1   | Finely ground | 47.0              | 0.289           |                       |\n",
    "| 6  | 6       | Ariana | Exp 3 PHB 31/1   | Finely ground | 170               | 0.357           |                       |\n",
    "\n",
    "The information above stems from a README and a teams comment (M. Herber, personal communication, March 2025)"
   ]
  },
  {
   "cell_type": "markdown",
   "metadata": {},
   "source": [
    "### Kraken2\n",
    "\n",
    "Kraken2 was chosen to be implemented in this pipeline because of it's high efficiency, accuracy and well documented use in similair usecases\n",
    "\n",
    "Following the quality control Kraken2 was used to classify our metagenomic reads taxonomically, Kraken2 uses a k-mer based algorithm that classifies reads byh comparing the resulting k-mers to a reference database. The reference database used was the standard k2 database (v2.1.2), which is composed of viral, fungal, archaeal, and bacterial genomes. \n",
    "Kraken2 was executed using default settings. The output files were generated in Kraken2’s default format, reporting taxonomic IDs and confidence scores for each read. (Wood et al., 2019)"
   ]
  },
  {
   "cell_type": "markdown",
   "metadata": {},
   "source": [
    "## references\n",
    "\n"
   ]
  },
  {
   "cell_type": "markdown",
   "metadata": {},
   "source": []
  }
 ],
 "metadata": {
  "language_info": {
   "name": "python"
  }
 },
 "nbformat": 4,
 "nbformat_minor": 2
}
