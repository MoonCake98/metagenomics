{
 "cells": [
  {
   "cell_type": "markdown",
   "metadata": {
    "vscode": {
     "languageId": "plaintext"
    }
   },
   "source": [
    "# <span style=\"color:green\"> **Effects of bioplastic on soils microbiome** </span>\n",
    "### <span style=\"color:green\"> A metagenomics analyses of soils micriobiome with different amounts of bioplastic </span>\n",
    " \n",
    "##### By: Akastia Christo, Tai Vo, Stijn Vermeulen & Kasthury Inparajah"
   ]
  },
  {
   "cell_type": "markdown",
   "metadata": {},
   "source": [
    "## materials and methods\n"
   ]
  },
  {
   "cell_type": "markdown",
   "metadata": {},
   "source": [
    "### Kraken2\n",
    "Following the quality control Kraken2 was used to classify our metagenomic reads taxonomically, Kraken2 uses a k-mer based algorithm that classifies reads byh comparing the resulting k-mers to a reference database. The reference database used was the standard k2 database (v2.1.2), which is composed of viral, fungal, archaeal, and bacterial genomes. \n",
    "Kraken2 was executed using default settings.The output files were generated in Kraken2’s default format, reporting taxonomic IDs and confidence scores for each read."
   ]
  },
  {
   "cell_type": "markdown",
   "metadata": {},
   "source": [
    "## references\n",
    "\n"
   ]
  },
  {
   "cell_type": "markdown",
   "metadata": {},
   "source": []
  }
 ],
 "metadata": {
  "language_info": {
   "name": "python"
  }
 },
 "nbformat": 4,
 "nbformat_minor": 2
}
