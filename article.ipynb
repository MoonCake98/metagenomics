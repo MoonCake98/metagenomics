{
 "cells": [
  {
   "cell_type": "markdown",
   "metadata": {
    "vscode": {
     "languageId": "plaintext"
    }
   },
   "source": [
    "# <span style=\"color:green\"> **Effects of bioplastic on soils microbiome** </span>\n",
    "### <span style=\"color:green\"> A metagenomics analyses of soils micriobiome with different amounts of bioplastic </span>\n",
    " \n",
    "##### By: Akastia Christo, Tai Vo, Stijn Vermeulen & Kasthury Inparajah"
   ]
  },
  {
   "cell_type": "markdown",
   "metadata": {},
   "source": [
    "## materials and methods\n"
   ]
  },
  {
   "cell_type": "markdown",
   "metadata": {},
   "source": [
    "### Kraken2\n",
    "Kraken2 was used to classify our metagenomic reads taxonomically, Kraken2 uses a k-mer based algorithm that classifies reads byh comparing the resulting k-mers to a reference database.\n",
    "\n",
    "The reference database used was "
   ]
  },
  {
   "cell_type": "markdown",
   "metadata": {},
   "source": [
    "We performed taxonomic classification of metagenomic sequencing reads using Kraken2 [1], a k-mer-based algorithm that rapidly assigns taxonomic labels to DNA sequences by comparing them against a reference database. The reference database we used was "
   ]
  },
  {
   "cell_type": "markdown",
   "source": [
    "### Bracken\n",
    "Bracken[bracken (2)] version 3.0.1 was used to assign the taxonomic report to the species level to add more readability. Bracken uses the taxonomic report provided by kraken to assign genomes to a taxonomic level and estimates the abundance of such levels.\n",
    "\n",
    "Bracken was run using default settings on the species level to produce default the bracken file and the bracken species report. "
   ],
   "metadata": {
    "collapsed": false
   }
  },
  {
   "cell_type": "markdown",
   "metadata": {},
   "source": [
    "## references\n",
    "\n",
    "[bracken (2)] Lu J, Breitwieser FP, Thielen P, Salzberg SL. 2017. Bracken: estimating species abundance in metagenomics data. PeerJ Computer Science 3:e104 https://doi.org/10.7717/peerj-cs.104"
   ]
  },
  {
   "cell_type": "markdown",
   "metadata": {},
   "source": []
  }
 ],
 "metadata": {
  "language_info": {
   "name": "python"
  }
 },
 "nbformat": 4,
 "nbformat_minor": 2
}
