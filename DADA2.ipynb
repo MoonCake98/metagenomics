{
 "cells": [
  {
   "cell_type": "markdown",
   "metadata": {},
   "source": [
    "# <span style=\"color:red\">**DADA2**</span>\n",
    "### ***Fast and accurate sample inference from amplicon data with single-nucleotide resolution***\n",
    "<br>"
   ]
  },
  {
   "cell_type": "markdown",
   "metadata": {},
   "source": [
    "### **Current version:** \n",
    "#### v.1.26 (as of 3-9-2025)\n",
    "<br>"
   ]
  },
  {
   "cell_type": "markdown",
   "metadata": {},
   "source": [
    "### **A short introduction to DADA2**\n",
    "[DADA2](https://benjjneb.github.io/dada2/) is an open-source software package designed to correct errors in Illumina-sequenced DNA data. It is primarily used to analyze amplicon data, which consists of DNA sequences obtained through PCR amplification.\n",
    "\n",
    "The amplicon sequencing process causes errors to sequencing data and these error severely complicate the interpretation of the results. \n",
    "\n",
    "To solve this problem, DADA2 implements a novel algorithm that models the errors, which are introduced during amplicon sequencing. This error model will be used to infer the true sample composition.\n",
    "\n",
    "The DADA2 method is more sensitive and specific than the [OTU](https://en.wikipedia.org/wiki/Operational_taxonomic_unit) (Operational Taxonomic Unit) method. DADA2 detects real biological variation which are missed by OUT methods while outputting fewer spurious sequences (wrong/unwanted sequences). \n"
   ]
  },
  {
   "cell_type": "markdown",
   "metadata": {},
   "source": [
    "### **DADA2 pipeline**\n",
    "**1. Input**\n",
    "<br>\n",
    "The input for DADA2 is a set of demultiplexed FASTQ files, meaning each sample has its own individual FASTQ file (or two files for paired-end sequencing) from an amplicon sequencing study. If demultiplexing has not been performed yet, tools like QIIME’s [split_libraries_fastq.py](http://qiime.org/scripts/split_libraries_fastq.html) and [split_sequence_file_on_sample_ids.py](http://qiime.org/scripts/split_sequence_file_on_sample_ids.html), or the idemp utility can be used. \n",
    "<br><br>\n",
    "<span style=\"color:red\">***NOTE: Non-biological bases such as PCR primers should be removed before proceeding***</span>\n"
   ]
  },
  {
   "cell_type": "markdown",
   "metadata": {},
   "source": [
    "**2. Quality control (plotQualityProfile())**\n",
    "<br>\n",
    "DADA2 has a built-in plotQualityProfile() function, which is an alternative to FastQC. It allows the user to visually inspect the quality of the reads without using an external tool.\n",
    "\n",
    "Since DADA2 natively handles compressed (.gz) files, it can perform quality control directly without the need to unpack them first.\n"
   ]
  },
  {
   "cell_type": "markdown",
   "metadata": {},
   "source": [
    "**3. Filter and Trim (filterAndTrim())**\n",
    "<br>\n",
    "With the filterAndTrim() function, DADA2 allows the user to filter and trim the sequencing reads to remove low-quality sequences and reduce errors. This step is crucial to ensure that only high-quality data is used in the analysis. The filtered sequences are saved as gzipped FASTQ files to save disk space.\n",
    "\n"
   ]
  },
  {
   "cell_type": "markdown",
   "metadata": {},
   "source": [
    "**4. Dereplicate (derepFastq())**\n",
    "<br>\n",
    "This function is used to group identical sequences together (dereplication) by finding exact matches in the dataset and counting the occurrences. This step reduces computational load and improves analysis efficiency.\n"
   ]
  },
  {
   "cell_type": "markdown",
   "metadata": {},
   "source": [
    "**5. Learn Error Rates (learnErrors())**\n",
    "<br>\n",
    "The DADA2 algorithm is used to estimate the error rates in the sequencing data, as sequencing technologies can introduce errors that affect the identification of true biological sequences. \n",
    "\n",
    "The estimation is done by modeling errors, such as substitutions, insertions, and deletions, based on the actual data. This function uses the quality scores associated with each base to identify where errors are most likely to occur. \n",
    "\n",
    "By estimating error rates directly from the data, this method can adapt to different sequencing runs and protocols, rather than relying on fixed error models. \n"
   ]
  },
  {
   "cell_type": "markdown",
   "metadata": {},
   "source": [
    "**6. Infer sample composition (dada(…))**\n",
    "<br>\n",
    "The core method of DADA2 focuses on sample composition inference, which is the process of accurately identifying the true biological sequences present in a sample.\n",
    "\n",
    "The DADA2 algorithm is more sensitive and specific than traditional OTU (Operational Taxonomic Unit) methods. It can detect subtle sequence differences and distinguish true biological variants from sequencing errors. \n",
    "\n",
    "Unlike OTU-based methods, which cluster sequences, DADA2 uses [denoising](https://docs.qiime2.org/jupyterbooks/cancer-microbiome-intervention-tutorial/020-tutorial-upstream/040-denoising.html) to correct sequencing errors and infer the true biological composition at a higher resolution. The output consists of sequence variants (SVs), representing the true biological sequences, rather than OTUs grouped by similarity.\n"
   ]
  },
  {
   "cell_type": "markdown",
   "metadata": {},
   "source": [
    "**7. Merge forward/reverse reads (mergePairs…())**\n",
    "<br>\n",
    "The mergePairs() function combines the forward and reverse reads into an single, complete sequence. This is done by matching the overlapping parts (more than 20 bp) of the forward and reverse reads. If the reads don’t overlap enough or don’t match well, they will be discarded. \n"
   ]
  },
  {
   "cell_type": "markdown",
   "metadata": {},
   "source": [
    "**8. Remove chimeras (removeBimeraDenovo())**\n",
    "<br>\n",
    "The removeBimeraDenovo() function is used to identify and remove chimeric sequences, which are spurious sequences formed during PCR amplification when an incomplete amplicon primes the next amplification cycle. These chimeras consist of fragments from different sequences, leading to false results. \n"
   ]
  },
  {
   "cell_type": "markdown",
   "metadata": {},
   "source": [
    "**9. Make a sequence table (makeSequenceTable())**\n",
    "<br>\n",
    "The makeSequenceTable() function combines the inferred sequence variants from all of the samples into a unified table, where rows represent samples and columns represent unique, non-chimeric sequences. \n",
    "\n",
    "After the table is created, the function removeBimeraDenovo() is applied again to remove any remaining chimeric sequences. \n",
    "\n",
    "The result is a clean, non-chimeric sequence table, similar to an OTU table, which can be used for downstream analysis, often with the phyloseq package for further exploration of sample composition.\n",
    "<br>"
   ]
  },
  {
   "cell_type": "markdown",
   "metadata": {},
   "source": [
    "___\n",
    "### **Advantages of DADA2**\n",
    "*\t**High accuracy**: Identifies exact DNA sequences instead of approximating groups\n",
    "<br>\n",
    "*\t**Better taxonomic resolution**: Distinguishes closely related species more precisely\n",
    "<br>\n",
    "*\t**Integration QIIME2**: DADA2 works well with QIIME2, which is a widely used microbiome analysis tool\n"
   ]
  },
  {
   "cell_type": "markdown",
   "metadata": {},
   "source": [
    "### **Extra**\n",
    "* [A detailed tutorial about DADA2](https://www.bioconductor.org/packages/devel/bioc/vignettes/dada2/inst/doc/dada2-intro.html)"
   ]
  },
  {
   "cell_type": "markdown",
   "metadata": {},
   "source": [
    "* **Installation**\n",
    "<br>\n",
    "Binaries for the current version of DADA2 are available from Bioconductor version 3.16. To install the package, start R (version 4.2.0 or newer). \n",
    "Enter the following in R:"
   ]
  },
  {
   "cell_type": "code",
   "execution_count": null,
   "metadata": {},
   "outputs": [],
   "source": [
    "if (!requireNamespace(\"BiocManager\", quietly = TRUE))\n",
    "    install.packages(\"BiocManager\")\n",
    "BiocManager::install(\"dada2\", version = \"3.16\")"
   ]
  },
  {
   "cell_type": "markdown",
   "metadata": {},
   "source": [
    "#### **Sources**\n",
    "1. https://benjjneb.github.io/dada2/\n",
    "2. https://www.nature.com/articles/nmeth.3869 \n",
    "3. https://callahanlab.cvm.ncsu.edu/software/ \n",
    "4. https://www.bioconductor.org/packages/devel/bioc/vignettes/dada2/inst/doc/dada2-intro.html\n"
   ]
  }
 ],
 "metadata": {
  "language_info": {
   "name": "python"
  }
 },
 "nbformat": 4,
 "nbformat_minor": 2
}
