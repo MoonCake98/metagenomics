{
 "cells": [
  {
   "cell_type": "markdown",
   "metadata": {},
   "source": [
    "# intro\n",
    "\n",
    "[intro bit]"
   ]
  },
  {
   "cell_type": "markdown",
   "metadata": {},
   "source": [
    "# preliminary tool research\n"
   ]
  },
  {
   "cell_type": "markdown",
   "metadata": {
    "vscode": {
     "languageId": "juliamarkdown"
    }
   },
   "source": [
    "[intro to our assigned pipeline tools]"
   ]
  },
  {
   "cell_type": "markdown",
   "metadata": {},
   "source": [
    "## minimap2\n",
    "### 8-3-25\n",
    "\n",
    "Minimap2 is a readmapping tool that is specifically suited for our project due to it's compaibility with the sequencing data. This is due to the fact that most of our earlier experience was with illumina based sequencing whilst this project handles MinION data.\n",
    "\n",
    "pros:\n",
    "\n",
    "- Minimap2 is especialy suited for readmapping MinION data because of it's explicit design for the high error rate of MinION reads. (This is due to its method of mapping reads using k-mers) K-mers are essentially genetic reading frames where the k represents the size of the frame in nucleotides.\n",
    "\n",
    "- Minimap2 is very efficient in the way that it has a comparatively low memory usage compared to other high performance tools meant for readmapping. (This is due to the fact that it was written in C, which is a very computationally efficient programming language)\n",
    "\n",
    "- Minimap2 supports spliced alignment. Which means it can detect large gaps caused by structural variations, introns etc.\n",
    "\n",
    "- Minimap2 is very suited for refferencing reads against large databases such as RefSeq. This is because it uses approximated alignment to not require single nucleotide level accuracy for every alignment.\n",
    "\n",
    "cons:\n",
    "\n",
    "- Minimap2 is primarily designed for readmapping for alignment instead of taxonomic classification like some of the other tools (which will be named below) that have comparable functions and goals.\n",
    "\n",
    "- Minimap2 is not very suited for unexpected or divergent microbial genomes.\n",
    "\n",
    "- Minimap2 needs more post processing correction than other tools due to approximated alignment\n",
    "\n",
    "\n",
    "#### k-mer\n",
    "K-mers are essentially breaking down reads into smaller more easily findable pieces. \n",
    "\n",
    "example:\n",
    "```\n",
    "Imagine you have a read of 5 nucleotides in length such as \"ATGCT\".\n",
    "\n",
    "Now if you assign the k in k-mer to be 3 then the k-mers would essentially be the sequences \"ATG\", \"TGC\" and \"GCT\".\n",
    "```\n",
    "\n",
    "#### approximated alignment\n",
    "The minimap2 tool is more efficient because it uses these smaller and more computationally efficient k-mer pieces to match reads to the references.\n",
    "The way it matches reads to the reference genomes is by using multiple k-mer matches, so it won't have to compare every single base.\n",
    "\n",
    "Note that not all the possible k-mers are used so it's not exponentially more pieces than conventional single base granularity readmapping.\n",
    "\n",
    "After enough k-mers are matched to the reference genome a more granular base level alignment will take place to confirm.\n",
    "\n",
    "Note that this does result in more false positives, due to which this tool requires more post processing than other tools with the same purpose.\n",
    "\n"
   ]
  },
  {
   "cell_type": "markdown",
   "metadata": {},
   "source": [
    "## readmapping alternatives\n",
    "[mention al in one sollution preferences]\n",
    "\n",
    "\n",
    "aio solutions (readmapping & taxonomic sorting):\n",
    "minimap\n",
    "\tneeds custom dataset for referencing and aligning, but most efficient and accurate in readmapping\n",
    "    \n",
    "kraken2\n",
    "\tprebuilt dataset and recced for general taxonomy \n",
    "\n",
    "mmseq2\n",
    "\thttps://github.com/soedinglab/MMseqs2 very efficient blast alternative\n",
    "\n",
    "metaphlan\n",
    "\thttps://github.com/biobakery/MetaPhlAn microbial (strain level so very detailed, same species variants)\n",
    "\n",
    "\n"
   ]
  },
  {
   "cell_type": "markdown",
   "metadata": {},
   "source": [
    "# kraken2\n",
    "\n",
    "### 15-03-25\n",
    "\n",
    "alternative to \n",
    "\n",
    "pros:\n",
    "- built in taxonomic support\n",
    "- extensive documentation\n",
    "- generally used in the papers we reference\n",
    "\n",
    "cons:\n",
    "- not as accurate and efficient as minimap2\n",
    "\n",
    "final verdict:\n",
    "better alternative because minimap2 is overqualified for our project and timeframe\n",
    "\n",
    "[github](https://github.com/DerrickWood/kraken2)"
   ]
  },
  {
   "cell_type": "markdown",
   "metadata": {},
   "source": [
    "## bracken"
   ]
  },
  {
   "cell_type": "markdown",
   "metadata": {},
   "source": [
    "extension upon kraken for 16s data, refines classification using bayesian re estimation to better species level classification. summary, makes more accurate kraken.\n",
    "\n",
    "[github](https://github.com/jenniferlu717/Bracken)"
   ]
  },
  {
   "cell_type": "markdown",
   "metadata": {
    "vscode": {
     "languageId": "html"
    }
   },
   "source": [
    "<blockquote>\n",
    "    <p>Bracken (Bayesian Reestimation of Abundance with KrakEN) is a highly accurate statistical method that computes the abundance of species in DNA sequences from a metagenomics sample. Braken uses the taxonomy labels assigned by Kraken, a highly accurate metagenomics classification algorithm, to estimate the number of reads originating from each species present in a sample. Kraken classifies reads to the best matching location in the taxonomic tree, but does not estimate abundances of species. We use the Kraken database itself to derive probabilities that describe how much sequence from each genome is identical to other genomes in the database, and combine this information with the assignments for a particular sample to estimate abundance at the species level, the genus level, or above. Combined with the Kraken classifier, Bracken produces accurate species- and genus-level abundance estimates even when a sample contains two or more near-identical species.\n",
    "\n",
    "        NOTE: Bracken is compatible with both Kraken 1 and Kraken 2. However, the default kmer length is different depending on the version of Kraken used. If you use Kraken 1 defaults, specify 31 as the kmer length. If you use Kraken 2 defaults, specify 35 as the kmer length. </p>\n",
    "</blockquote>\n"
   ]
  },
  {
   "cell_type": "markdown",
   "metadata": {},
   "source": [
    "[documentation & source of quote above](https://ccb.jhu.edu/software/bracken/)"
   ]
  },
  {
   "cell_type": "markdown",
   "metadata": {},
   "source": [
    "---\n",
    "# readmapping and taxonomic classification (kraken2 & bracken)"
   ]
  },
  {
   "cell_type": "markdown",
   "metadata": {},
   "source": [
    "## installing kraken2"
   ]
  },
  {
   "cell_type": "code",
   "execution_count": null,
   "metadata": {
    "vscode": {
     "languageId": "bat"
    }
   },
   "outputs": [],
   "source": [
    " conda install bioconda::kraken2"
   ]
  },
  {
   "cell_type": "markdown",
   "metadata": {},
   "source": [
    "db path /data/datasets/KRAKEN2_INDEX\n",
    "data path /commons/Themas/Thema07/metagenomics/bioplastic"
   ]
  },
  {
   "cell_type": "markdown",
   "metadata": {},
   "source": []
  },
  {
   "cell_type": "markdown",
   "metadata": {},
   "source": [
    "installing bracken"
   ]
  },
  {
   "cell_type": "code",
   "execution_count": null,
   "metadata": {
    "vscode": {
     "languageId": "bat"
    }
   },
   "outputs": [],
   "source": [
    " conda install bioconda::kraken2"
   ]
  },
  {
   "cell_type": "markdown",
   "metadata": {},
   "source": [
    "reference kraken en bracken commands in 16S_Silva README (copy in kraken2_test_data)"
   ]
  },
  {
   "cell_type": "markdown",
   "metadata": {},
   "source": [
    "## acquire data"
   ]
  },
  {
   "cell_type": "markdown",
   "metadata": {
    "vscode": {
     "languageId": "bat"
    }
   },
   "source": [
    "making a subset for easier testing"
   ]
  },
  {
   "cell_type": "code",
   "execution_count": null,
   "metadata": {
    "vscode": {
     "languageId": "bat"
    }
   },
   "outputs": [],
   "source": [
    "cp /commons/Themas/Thema07/metagenomics/bioplastic/soil_metagenomics/Ariana/20240418_1521_MN35459_FAX77312_60832f1a/fastq_pass/barcode01/FAX77312_pass_barcode01_60832f1a_527e8671_0.fastq.gz ~/Documents/git/metagenomics/kraken2_test_data"
   ]
  },
  {
   "cell_type": "markdown",
   "metadata": {},
   "source": [
    "gunzip file"
   ]
  },
  {
   "cell_type": "code",
   "execution_count": null,
   "metadata": {
    "vscode": {
     "languageId": "bat"
    }
   },
   "outputs": [],
   "source": [
    "gunzip FAX77312_pass_barcode01_60832f1a_527e8671_0.fastq.gz"
   ]
  },
  {
   "cell_type": "code",
   "execution_count": null,
   "metadata": {
    "vscode": {
     "languageId": "bat"
    }
   },
   "outputs": [],
   "source": [
    "cd ~/Documents/git/metagenomics/kraken2_test_data"
   ]
  },
  {
   "cell_type": "markdown",
   "metadata": {},
   "source": [
    "make subset of 800.000 lines (lines must be multipe of 4 because of fastq syntax)"
   ]
  },
  {
   "cell_type": "code",
   "execution_count": null,
   "metadata": {
    "vscode": {
     "languageId": "bat"
    }
   },
   "outputs": [],
   "source": [
    "head -n 800000 FAX77312_pass_barcode01_60832f1a_527e8671_0.fastq > test_data.fastq"
   ]
  },
  {
   "cell_type": "markdown",
   "metadata": {},
   "source": [
    "## test kraken commands"
   ]
  },
  {
   "cell_type": "code",
   "execution_count": null,
   "metadata": {
    "vscode": {
     "languageId": "bat"
    }
   },
   "outputs": [],
   "source": [
    "kraken2 --db 16S_Silva/ --threads 4 report ~/Documents/git/metagenomics/kraken2_test_data/subset_test.kreport2 ~/Documents/git/metagenomics/kraken2_test_data/test_data.fastq"
   ]
  },
  {
   "cell_type": "markdown",
   "metadata": {},
   "source": [
    "above command badly formatted report option"
   ]
  },
  {
   "cell_type": "code",
   "execution_count": null,
   "metadata": {
    "vscode": {
     "languageId": "bat"
    }
   },
   "outputs": [],
   "source": [
    "kraken2 --db 16S_Silva/ --threads 4   --report ~/Documents/git/metagenomics/kraken2_test_data/subset_test.kreport2   --output ~/Documents/git/metagenomics/kraken2_test_data/output.txt   ~/Documents/git/metagenomics/kraken2_test_data/test_data.fastq"
   ]
  },
  {
   "cell_type": "markdown",
   "metadata": {},
   "source": [
    "kraken2: database (\"16S_Silva/\") does not contain necessary file taxo.k2d, but still generated output files"
   ]
  },
  {
   "cell_type": "markdown",
   "metadata": {},
   "source": [
    "## preliminary kraken2 processing of wgs barcode 1 for better efficiency during developement\n",
    "### 20-04-25\n"
   ]
  },
  {
   "cell_type": "markdown",
   "metadata": {},
   "source": [
    "\n",
    "navigate and merge all barcode01 fastafiles (using zcat to decompress before concatonating)\n",
    "\n",
    "```cd /commons/Themas/Thema07/metagenomics/bioplastic/soil_metagenomics/Ariana/20240418_1521_MN35459_FAX77312_60832f1a/fastq_pass/barcode01```\n",
    "\n",
    "```zcat FAX77312_pass_barcode01_60832f1a_527e8671_*.fastq.gz > ~/Documents/git/metagenomics/kraken2_test_data/combined_wgs_barcode1.fastq```"
   ]
  },
  {
   "cell_type": "markdown",
   "metadata": {},
   "source": [
    "navigate towards new file \n",
    "\n",
    "```cd ~/Documents/git/metagenomics/kraken2_test_data/```\n",
    "\n",
    "execute kraken on combined data\n",
    "\n",
    "```kraken2 --db /data/datasets/KRAKEN2_INDEX/k2_standard --threads 16 --report combined_wgs_barcode01_report.kreport2 --output combined_wgs_barcode01_output.txt combined_wgs_barcode1.fastq```"
   ]
  },
  {
   "cell_type": "markdown",
   "metadata": {},
   "source": [
    "moved combined fastq file to shared folder for easier access for collaborators with the commands below\n",
    "\n",
    "```cd /students/2024-2025/Thema07/metagenomics/bioplastic```\n",
    "\n",
    "```mv ~/Documents/git/metagenomics/kraken2_test_data/combined_wgs_barcode1.fastq .```\n"
   ]
  },
  {
   "cell_type": "markdown",
   "metadata": {},
   "source": [
    "#### conclusion\n",
    "\n",
    "combined_wgs_barcode01_report.kreport2 and combined_wgs_barcode01_output.txt are present within the logbook folder of the git repository\n",
    "\n",
    "and the combined_wgs_barcode1.fastq is present within the /students/2024-2025/Thema07/metagenomics/bioplastic folder\n"
   ]
  },
  {
   "cell_type": "markdown",
   "metadata": {},
   "source": []
  }
 ],
 "metadata": {
  "language_info": {
   "name": "python"
  }
 },
 "nbformat": 4,
 "nbformat_minor": 2
}
