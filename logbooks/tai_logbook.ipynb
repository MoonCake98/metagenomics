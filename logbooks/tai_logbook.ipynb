{
 "cells": [
  {
   "cell_type": "markdown",
   "metadata": {},
   "source": [
    "# intro\n",
    "\n",
    "[intro bit]"
   ]
  },
  {
   "cell_type": "markdown",
   "metadata": {},
   "source": [
    "# preliminary tool research\n"
   ]
  },
  {
   "cell_type": "markdown",
   "metadata": {
    "vscode": {
     "languageId": "juliamarkdown"
    }
   },
   "source": [
    "[intro to our assigned pipeline tools]"
   ]
  },
  {
   "cell_type": "markdown",
   "metadata": {},
   "source": [
    "## minimap2\n",
    "### 8-3-25\n",
    "\n",
    "Minimap2 is a readmapping tool that is specifically suited for our project due to it's compaibility with the sequencing data. This is due to the fact that most of our earlier experience was with illumina based sequencing whilst this project handles MinION data.\n",
    "\n",
    "pros:\n",
    "\n",
    "- Minimap2 is especialy suited for readmapping MinION data because of it's explicit design for the high error rate of MinION reads. (This is due to its method of mapping reads using k-mers) K-mers are essentially genetic reading frames where the k represents the size of the frame in nucleotides.\n",
    "\n",
    "- Minimap2 is very efficient in the way that it has a comparatively low memory usage compared to other high performance tools meant for readmapping. (This is due to the fact that it was written in C, which is a very computationally efficient programming language)\n",
    "\n",
    "- Minimap2 supports spliced alignment. Which means it can detect large gaps caused by structural variations, introns etc.\n",
    "\n",
    "- Minimap2 is very suited for refferencing reads against large databases such as RefSeq. This is because it uses approximated alignment to not require single nucleotide level accuracy for every alignment.\n",
    "\n",
    "cons:\n",
    "\n",
    "- Minimap2 is primarily designed for readmapping for alignment instead of taxonomic classification like some of the other tools (which will be named below) that have comparable functions and goals.\n",
    "\n",
    "- Minimap2 is not very suited for unexpected or divergent microbial genomes.\n",
    "\n",
    "- Minimap2 needs more post processing correction than other tools due to approximated alignment\n",
    "\n",
    "\n",
    "#### k-mer\n",
    "K-mers are essentially breaking down reads into smaller more easily findable pieces. \n",
    "\n",
    "example:\n",
    "```\n",
    "Imagine you have a read of 5 nucleotides in length such as \"ATGCT\".\n",
    "\n",
    "Now if you assign the k in k-mer to be 3 then the k-mers would essentially be the sequences \"ATG\", \"TGC\" and \"GCT\".\n",
    "```\n",
    "\n",
    "#### approximated alignment\n",
    "The minimap2 tool is more efficient because it uses these smaller and more computationally efficient k-mer pieces to match reads to the references.\n",
    "The way it matches reads to the reference genomes is by using multiple k-mer matches, so it won't have to compare every single base.\n",
    "\n",
    "Note that not all the possible k-mers are used so it's not exponentially more pieces than conventional single base granularity readmapping.\n",
    "\n",
    "After enough k-mers are matched to the reference genome a more granular base level alignment will take place to confirm.\n",
    "\n",
    "Note that this does result in more false positives, due to which this tool requires more post processing than other tools with the same purpose.\n",
    "\n"
   ]
  },
  {
   "cell_type": "markdown",
   "metadata": {},
   "source": [
    "## readmapping alternatives\n",
    "[mention al in one sollution preferences]\n",
    "\n",
    "\n",
    "aio solutions (readmapping & taxonomic sorting):\n",
    "minimap\n",
    "\tneeds custom dataset for referencing and aligning, but most efficient and accurate in readmapping\n",
    "    \n",
    "kraken2\n",
    "\tprebuilt dataset and recced for general taxonomy \n",
    "\n",
    "mmseq2\n",
    "\thttps://github.com/soedinglab/MMseqs2 very efficient blast alternative\n",
    "\n",
    "metaphlan\n",
    "\thttps://github.com/biobakery/MetaPhlAn microbial (strain level so very detailed, same species variants)\n",
    "\n",
    "\n"
   ]
  },
  {
   "cell_type": "markdown",
   "metadata": {},
   "source": [
    "# readmapping and taxonomic classification (kraken2)"
   ]
  },
  {
   "cell_type": "markdown",
   "metadata": {},
   "source": [
    "## installing kraken2"
   ]
  },
  {
   "cell_type": "code",
   "execution_count": null,
   "metadata": {
    "vscode": {
     "languageId": "bat"
    }
   },
   "outputs": [],
   "source": [
    " conda install bioconda::kraken2"
   ]
  }
 ],
 "metadata": {
  "language_info": {
   "name": "python"
  }
 },
 "nbformat": 4,
 "nbformat_minor": 2
}
