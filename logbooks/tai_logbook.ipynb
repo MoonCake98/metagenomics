{
 "cells": [
  {
   "cell_type": "markdown",
   "metadata": {},
   "source": [
    "# intro\n",
    "\n",
    "[intro bit]"
   ]
  },
  {
   "cell_type": "markdown",
   "metadata": {},
   "source": [
    "# preliminary tool research\n"
   ]
  },
  {
   "cell_type": "markdown",
   "metadata": {
    "vscode": {
     "languageId": "juliamarkdown"
    }
   },
   "source": [
    "[intro to our assigned pipeline tools]"
   ]
  },
  {
   "cell_type": "markdown",
   "metadata": {},
   "source": [
    "## minimap2\n",
    "### 8-3-25\n",
    "\n",
    "Minimap2 is a readmapping tool that is specifically suited for our project due to it's compaibility with the sequencing data. This is due to the fact that most of our earlier experience was with illumina based sequencing whilst this project handles MinION data.\n",
    "\n",
    "pros:\n",
    "\n",
    "- Minimap2 is especialy suited for readmapping MinION data because of it's explicit design for the high error rate of MinION reads. (This is due to its method of mapping reads using k-mers) K-mers are essentially genetic reading frames where the k represents the size of the frame in nucleotides.\n",
    "\n",
    "- Minimap2 is very efficient in the way that it has a comparatively low memory usage compared to other high performance tools meant for readmapping. (This is due to the fact that it was written in C, which is a very computationally efficient programming language)\n",
    "\n",
    "- Minimap2 supports spliced alignment. Which means it can detect large gaps caused by structural variations, introns etc.\n",
    "\n",
    "- Minimap2 is very suited for refferencing reads against large databases such as RefSeq. This is because it uses approximated alignment to not require single nucleotide level accuracy for every alignment.\n",
    "\n",
    "cons:\n",
    "\n",
    "- Minimap2 is primarily designed for readmapping for alignment instead of taxonomic classification like some of the other tools (which will be named below) that have comparable functions and goals.\n",
    "\n",
    "- Minimap2 is not very suited for unexpected or divergent microbial genomes.\n",
    "\n",
    "- Minimap2 needs more post processing correction than other tools due to approximated alignment\n",
    "\n",
    "\n",
    "#### k-mer\n",
    "K-mers are essentially breaking down reads into smaller more easily findable pieces. \n",
    "\n",
    "example:\n",
    "```\n",
    "Imagine you have a read of 5 nucleotides in length such as \"ATGCT\".\n",
    "\n",
    "Now if you assign the k in k-mer to be 3 then the k-mers would essentially be the sequences \"ATG\", \"TGC\" and \"GCT\".\n",
    "```\n",
    "\n",
    "#### approximated alignment\n",
    "The minimap2 tool is more efficient because it uses these smaller and more computationally efficient k-mer pieces to match reads to the references.\n",
    "The way it matches reads to the reference genomes is by using multiple k-mer matches, so it won't have to compare every single base.\n",
    "\n",
    "Note that not all the possible k-mers are used so it's not exponentially more pieces than conventional single base granularity readmapping.\n",
    "\n",
    "After enough k-mers are matched to the reference genome a more granular base level alignment will take place to confirm.\n",
    "\n",
    "Note that this does result in more false positives, due to which this tool requires more post processing than other tools with the same purpose.\n",
    "\n"
   ]
  },
  {
   "cell_type": "markdown",
   "metadata": {},
   "source": [
    "## readmapping alternatives\n",
    "[mention al in one sollution preferences]\n",
    "\n",
    "\n",
    "aio solutions (readmapping & taxonomic sorting):\n",
    "minimap\n",
    "\tneeds custom dataset for referencing and aligning, but most efficient and accurate in readmapping\n",
    "    \n",
    "kraken2\n",
    "\tprebuilt dataset and recced for general taxonomy \n",
    "\n",
    "mmseq2\n",
    "\thttps://github.com/soedinglab/MMseqs2 very efficient blast alternative\n",
    "\n",
    "metaphlan\n",
    "\thttps://github.com/biobakery/MetaPhlAn microbial (strain level so very detailed, same species variants)\n",
    "\n",
    "\n"
   ]
  },
  {
   "cell_type": "markdown",
   "metadata": {},
   "source": [
    "# kraken2\n",
    "\n",
    "### 15-03-25\n",
    "\n",
    "alternative to \n",
    "\n",
    "pros:\n",
    "- built in taxonomic support\n",
    "- extensive documentation\n",
    "- generally used in the papers we reference\n",
    "\n",
    "cons:\n",
    "- not as accurate and efficient as minimap2\n",
    "\n",
    "final verdict:\n",
    "better alternative because minimap2 is overqualified for our project and timeframe\n",
    "\n",
    "[github](https://github.com/DerrickWood/kraken2)"
   ]
  },
  {
   "cell_type": "markdown",
   "metadata": {},
   "source": [
    "## bracken"
   ]
  },
  {
   "cell_type": "markdown",
   "metadata": {},
   "source": [
    "extension upon kraken for 16s data, refines classification using bayesian re estimation to better species level classification. summary, makes more accurate kraken.\n",
    "\n",
    "[github](https://github.com/jenniferlu717/Bracken)"
   ]
  },
  {
   "cell_type": "markdown",
   "metadata": {
    "vscode": {
     "languageId": "html"
    }
   },
   "source": [
    "<blockquote>\n",
    "    <p>Bracken (Bayesian Reestimation of Abundance with KrakEN) is a highly accurate statistical method that computes the abundance of species in DNA sequences from a metagenomics sample. Braken uses the taxonomy labels assigned by Kraken, a highly accurate metagenomics classification algorithm, to estimate the number of reads originating from each species present in a sample. Kraken classifies reads to the best matching location in the taxonomic tree, but does not estimate abundances of species. We use the Kraken database itself to derive probabilities that describe how much sequence from each genome is identical to other genomes in the database, and combine this information with the assignments for a particular sample to estimate abundance at the species level, the genus level, or above. Combined with the Kraken classifier, Bracken produces accurate species- and genus-level abundance estimates even when a sample contains two or more near-identical species.\n",
    "\n",
    "        NOTE: Bracken is compatible with both Kraken 1 and Kraken 2. However, the default kmer length is different depending on the version of Kraken used. If you use Kraken 1 defaults, specify 31 as the kmer length. If you use Kraken 2 defaults, specify 35 as the kmer length. </p>\n",
    "</blockquote>\n"
   ]
  },
  {
   "cell_type": "markdown",
   "metadata": {},
   "source": [
    "[documentation & source of quote above](https://ccb.jhu.edu/software/bracken/)"
   ]
  },
  {
   "cell_type": "markdown",
   "metadata": {},
   "source": [
    "---\n",
    "# readmapping and taxonomic classification (kraken2 & bracken)"
   ]
  },
  {
   "cell_type": "markdown",
   "metadata": {},
   "source": [
    "## installing kraken2"
   ]
  },
  {
   "cell_type": "code",
   "execution_count": null,
   "metadata": {
    "vscode": {
     "languageId": "bat"
    }
   },
   "outputs": [],
   "source": [
    " conda install bioconda::kraken2"
   ]
  },
  {
   "cell_type": "markdown",
   "metadata": {},
   "source": [
    "db path /data/datasets/KRAKEN2_INDEX\n",
    "data path /commons/Themas/Thema07/metagenomics/bioplastic"
   ]
  },
  {
   "cell_type": "markdown",
   "metadata": {},
   "source": []
  },
  {
   "cell_type": "markdown",
   "metadata": {},
   "source": [
    "installing bracken"
   ]
  },
  {
   "cell_type": "code",
   "execution_count": null,
   "metadata": {
    "vscode": {
     "languageId": "bat"
    }
   },
   "outputs": [],
   "source": [
    " conda install bioconda::kraken2"
   ]
  },
  {
   "cell_type": "markdown",
   "metadata": {},
   "source": [
    "reference kraken en bracken commands in 16S_Silva README (copy in kraken2_test_data)"
   ]
  },
  {
   "cell_type": "markdown",
   "metadata": {},
   "source": [
    "## acquire data"
   ]
  },
  {
   "cell_type": "markdown",
   "metadata": {
    "vscode": {
     "languageId": "bat"
    }
   },
   "source": [
    "making a subset for easier testing"
   ]
  },
  {
   "cell_type": "code",
   "execution_count": null,
   "metadata": {
    "vscode": {
     "languageId": "bat"
    }
   },
   "outputs": [],
   "source": [
    "cp /commons/Themas/Thema07/metagenomics/bioplastic/soil_metagenomics/Ariana/20240418_1521_MN35459_FAX77312_60832f1a/fastq_pass/barcode01/FAX77312_pass_barcode01_60832f1a_527e8671_0.fastq.gz ~/Documents/git/metagenomics/kraken2_test_data"
   ]
  },
  {
   "cell_type": "markdown",
   "metadata": {},
   "source": [
    "gunzip file"
   ]
  },
  {
   "cell_type": "code",
   "execution_count": null,
   "metadata": {
    "vscode": {
     "languageId": "bat"
    }
   },
   "outputs": [],
   "source": [
    "gunzip FAX77312_pass_barcode01_60832f1a_527e8671_0.fastq.gz"
   ]
  },
  {
   "cell_type": "code",
   "execution_count": null,
   "metadata": {
    "vscode": {
     "languageId": "bat"
    }
   },
   "outputs": [],
   "source": [
    "cd ~/Documents/git/metagenomics/kraken2_test_data"
   ]
  },
  {
   "cell_type": "markdown",
   "metadata": {},
   "source": [
    "make subset of 800.000 lines (lines must be multipe of 4 because of fastq syntax)"
   ]
  },
  {
   "cell_type": "code",
   "execution_count": null,
   "metadata": {
    "vscode": {
     "languageId": "bat"
    }
   },
   "outputs": [],
   "source": [
    "head -n 800000 FAX77312_pass_barcode01_60832f1a_527e8671_0.fastq > test_data.fastq"
   ]
  },
  {
   "cell_type": "markdown",
   "metadata": {},
   "source": [
    "## test kraken commands"
   ]
  },
  {
   "cell_type": "code",
   "execution_count": null,
   "metadata": {
    "vscode": {
     "languageId": "bat"
    }
   },
   "outputs": [],
   "source": [
    "kraken2 --db 16S_Silva/ --threads 4 report ~/Documents/git/metagenomics/kraken2_test_data/subset_test.kreport2 ~/Documents/git/metagenomics/kraken2_test_data/test_data.fastq"
   ]
  },
  {
   "cell_type": "markdown",
   "metadata": {},
   "source": [
    "above command badly formatted report option"
   ]
  },
  {
   "cell_type": "code",
   "execution_count": null,
   "metadata": {
    "vscode": {
     "languageId": "bat"
    }
   },
   "outputs": [],
   "source": [
    "kraken2 --db 16S_Silva/ --threads 4   --report ~/Documents/git/metagenomics/kraken2_test_data/subset_test.kreport2   --output ~/Documents/git/metagenomics/kraken2_test_data/output.txt   ~/Documents/git/metagenomics/kraken2_test_data/test_data.fastq"
   ]
  },
  {
   "cell_type": "markdown",
   "metadata": {},
   "source": [
    "kraken2: database (\"16S_Silva/\") does not contain necessary file taxo.k2d, but still generated output files"
   ]
  },
  {
   "cell_type": "markdown",
   "metadata": {},
   "source": [
    "## snakemake adaptation\n",
    "given that the preliminary processing of wgs barcode01 has succeeded as stated in the section preliminary kraken2 processing, I will now start with the implementation of the command into a snakemake rule"
   ]
  },
  {
   "cell_type": "markdown",
   "metadata": {},
   "source": [
    "in the code below I have directly translated the latest version of the preliminary processing command into snakemake"
   ]
  },
  {
   "cell_type": "code",
   "execution_count": null,
   "metadata": {
    "vscode": {
     "languageId": "bat"
    }
   },
   "outputs": [],
   "source": [
    "rule kraken2:\n",
    "    input:\n",
    "        \"~/Documents/git/metagenomics/kraken2_test_data/combined_wgs_barcode01.fastq\"\n",
    "    output:\n",
    "        report=\"combined_wgs_barcode01_report.kreport2\",\n",
    "        output_txt=\"combined_wgs_barcode01_output.txt\"\n",
    "    threads: 16\n",
    "    shell:\n",
    "        \"kraken2 --db /data/datasets/KRAKEN2_INDEX/k2_standard \"\n",
    "        \"--threads {threads} \"\n",
    "        \"--report {output.report} \"\n",
    "        \"--output {output.output_txt} \"\n",
    "        \"{input}\"\n"
   ]
  },
  {
   "cell_type": "markdown",
   "metadata": {},
   "source": [
    "turns out that kraken2 recommends using relative paths from the snakefile so the next iteration below wil have this "
   ]
  },
  {
   "cell_type": "code",
   "execution_count": null,
   "metadata": {
    "vscode": {
     "languageId": "bat"
    }
   },
   "outputs": [],
   "source": [
    "rule all:\n",
    "    input:\n",
    "        \"combined_wgs_barcode01_report.kreport2\",\n",
    "        \"combined_wgs_barcode01_output.txt\"\n",
    "\n",
    "\n",
    "\n",
    "rule kraken2:\n",
    "    input:\n",
    "        \"/kraken2_test_data/combined_wgs_barcode01.fastq\"\n",
    "    output:\n",
    "        kreport=\"combined_wgs_barcode01_report.kreport2\",\n",
    "        output_txt=\"combined_wgs_barcode01_output.txt\"\n",
    "    threads: 16\n",
    "    shell:\n",
    "        \"kraken2 --db /data/datasets/KRAKEN2_INDEX/k2_standard \"\n",
    "        \"--threads {threads} \"\n",
    "        \"--report {output.kreport} \"\n",
    "        \"--output {output.output_txt} \"\n",
    "        \"{input}\""
   ]
  },
  {
   "cell_type": "markdown",
   "metadata": {},
   "source": [
    "the code above returns a MissingInputException specifically for \n",
    "```host: mordor2014\n",
    "Building DAG of jobs...\n",
    "MissingInputException in rule kraken2 in file \"/homes/ttvo/Documents/git/metagenomics/snakefile\", line 8:\n",
    "Missing input files for rule kraken2:\n",
    "    output: combined_wgs_barcode01_report.kreport2, combined_wgs_barcode01_output.txt\n",
    "    affected files:\n",
    "        /kraken2_test_data/combined_wgs_barcode01.fastq```"
   ]
  },
  {
   "cell_type": "markdown",
   "metadata": {},
   "source": [
    "this is because I moved the ```combined_wgs_barcode01.fastq``` file to an accessible place.\n",
    "I retrieved a copy of the data with the following command"
   ]
  },
  {
   "cell_type": "code",
   "execution_count": null,
   "metadata": {
    "vscode": {
     "languageId": "bat"
    }
   },
   "outputs": [],
   "source": [
    "cp /students/2024-2025/Thema07/metagenomics/bioplastic/combined_wgs_barcode1.fastq ~/Documents/git/metagenomics/kraken2_test_data/"
   ]
  },
  {
   "cell_type": "markdown",
   "metadata": {},
   "source": [
    "after trying to run the snakefile code above it became clear that I misspelled the file which is ```combined_wgs_barcode1.fastq``` as ```combined_wgs_barcode01.fastq```. \n",
    "\n",
    "After this the running of the file still resulted in a missing file and after another look at the input filepath of ```/kraken2_test_data/combined_wgs_barcode01.fastq``` I realised the filepath began with a ```/``` wihch resulted int the path not being relative. After this being corrected by removing the initial ```/```, the reulting output was satisfactory for a dry run. The code for the dry run and the resulting output are displayed below."
   ]
  },
  {
   "cell_type": "code",
   "execution_count": null,
   "metadata": {
    "vscode": {
     "languageId": "bat"
    }
   },
   "outputs": [],
   "source": [
    "(metagen) ttvo@assemblix2019:~/Documents/git/metagenomics$ snakemake -np\n",
    "host: assemblix2019\n",
    "Building DAG of jobs...\n",
    "Job stats:\n",
    "job        count\n",
    "-------  -------\n",
    "all            1\n",
    "kraken2        1\n",
    "total          2\n",
    "\n",
    "\n",
    "[Mon Mar 24 04:44:50 2025]\n",
    "rule kraken2:\n",
    "    input: kraken2_test_data/combined_wgs_barcode1.fastq\n",
    "    output: combined_wgs_barcode01_report.kreport2, combined_wgs_barcode01_output.txt\n",
    "    jobid: 1\n",
    "    reason: Missing output files: combined_wgs_barcode01_report.kreport2, combined_wgs_barcode01_output.txt\n",
    "    threads: 16\n",
    "    resources: tmpdir=<TBD>\n",
    "Shell command: kraken2 --db /data/datasets/KRAKEN2_INDEX/k2_standard --threads 16 --report combined_wgs_barcode01_report.kreport2 --output combined_wgs_barcode01_output.txt kraken2_test_data/combined_wgs_barcode1.fastq\n",
    "\n",
    "[Mon Mar 24 04:44:50 2025]\n",
    "rule all:\n",
    "    input: combined_wgs_barcode01_report.kreport2, combined_wgs_barcode01_output.txt\n",
    "    jobid: 0\n",
    "    reason: Input files updated by another job: combined_wgs_barcode01_output.txt, combined_wgs_barcode01_report.kreport2\n",
    "    resources: tmpdir=<TBD>\n",
    "Shell command: None\n",
    "Job stats:\n",
    "job        count\n",
    "-------  -------\n",
    "all            1\n",
    "kraken2        1\n",
    "total          2\n",
    "\n",
    "Reasons:\n",
    "    (check individual jobs above for details)\n",
    "    input files updated by another job:\n",
    "        all\n",
    "    output files have to be generated:\n",
    "        kraken2\n",
    "This was a dry-run (flag -n). The order of jobs does not reflect the order of execution."
   ]
  },
  {
   "cell_type": "markdown",
   "metadata": {},
   "source": [
    "afterwards with log"
   ]
  },
  {
   "cell_type": "code",
   "execution_count": null,
   "metadata": {
    "vscode": {
     "languageId": "bat"
    }
   },
   "outputs": [],
   "source": [
    "    log: \"logs/kraken2/kreaken_log.txt\"\n",
    "    shell:\n",
    "        \"kraken2 --db /data/datasets/KRAKEN2_INDEX/k2_standard\"\n",
    "        \"--threads {threads} \"\n",
    "        \"--report {output.kreport} \"\n",
    "        \"--output {output.output_txt} \"\n",
    "        \"{input} 2> {log}\""
   ]
  },
  {
   "cell_type": "markdown",
   "metadata": {},
   "source": [
    "this resulted in a lack of "
   ]
  },
  {
   "cell_type": "markdown",
   "metadata": {},
   "source": [
    "## preliminary kraken2 processing\n",
    "### 20-04-25\n",
    "\n",
    "I'm processing the wgs of barcode01 in advance for better efficiency during developement, specifically so that stijn can continue working with kraken2 output data.\n"
   ]
  },
  {
   "cell_type": "markdown",
   "metadata": {},
   "source": [
    "\n",
    "navigate and merge all barcode01 fastafiles (using zcat to decompress before concatonating)\n",
    "\n",
    "```cd /commons/Themas/Thema07/metagenomics/bioplastic/soil_metagenomics/Ariana/20240418_1521_MN35459_FAX77312_60832f1a/fastq_pass/barcode01```\n",
    "\n",
    "```zcat FAX77312_pass_barcode01_60832f1a_527e8671_*.fastq.gz > ~/Documents/git/metagenomics/kraken2_test_data/combined_wgs_barcode1.fastq```"
   ]
  },
  {
   "cell_type": "markdown",
   "metadata": {},
   "source": [
    "navigate towards new file \n",
    "\n",
    "```cd ~/Documents/git/metagenomics/kraken2_test_data/```\n",
    "\n",
    "execute kraken on combined data\n",
    "\n",
    "```kraken2 --db /data/datasets/KRAKEN2_INDEX/k2_standard --threads 16 --report combined_wgs_barcode01_report.kreport2 --output combined_wgs_barcode01_output.txt combined_wgs_barcode1.fastq```"
   ]
  },
  {
   "cell_type": "markdown",
   "metadata": {},
   "source": [
    "moved combined fastq file to shared folder for easier access for collaborators with the commands below\n",
    "\n",
    "```cd /students/2024-2025/Thema07/metagenomics/bioplastic```\n",
    "\n",
    "```mv ~/Documents/git/metagenomics/kraken2_test_data/combined_wgs_barcode1.fastq .```\n"
   ]
  },
  {
   "cell_type": "markdown",
   "metadata": {},
   "source": [
    "#### conclusion\n",
    "\n",
    "Combined_wgs_barcode01_report.kreport2 and combined_wgs_barcode01_output.txt are present within the logbook folder of the git repository.\n",
    "\n",
    "And the combined_wgs_barcode1.fastq is present within the /students/2024-2025/Thema07/metagenomics/bioplastic folder.\n",
    "\n",
    "The goal of this section was providing adequate data for the further developement and integration of the bracken section. As of right now I deem it unneccesary to process more data for this purpose. However in the circumstance more adta is needed during developement, the above code should serve to reproduce the results on more barcodes\n"
   ]
  },
  {
   "cell_type": "markdown",
   "metadata": {},
   "source": []
  }
 ],
 "metadata": {
  "language_info": {
   "name": "python"
  }
 },
 "nbformat": 4,
 "nbformat_minor": 2
}
