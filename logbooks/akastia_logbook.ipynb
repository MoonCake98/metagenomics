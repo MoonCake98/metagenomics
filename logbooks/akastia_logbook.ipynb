{
 "cells": [
  {
   "cell_type": "markdown",
   "metadata": {},
   "source": [
    "# Metagenomics"
   ]
  },
  {
   "cell_type": "markdown",
   "metadata": {},
   "source": [
    "## Introduction\n"
   ]
  },
  {
   "cell_type": "markdown",
   "metadata": {},
   "source": [
    "### Data\n",
    "\n",
    "The microbiome soil data was collected by the KCBBE intern Ariana. The MinION data consists of 16S and WGS."
   ]
  },
  {
   "cell_type": "markdown",
   "metadata": {},
   "source": [
    "### Research question\n",
    "This research aims to answer the question, how does the PHA/PHB (?) powder and pellets impact the microbiome of the soil?"
   ]
  },
  {
   "cell_type": "markdown",
   "metadata": {},
   "source": [
    "## Tool reaserch\n",
    "\n",
    "5-03-25\n",
    "### Porechop \n",
    "Porechop is a tool that finds and removes adapters from Oxford Nanopore reads, which means MinION reads. This tool supports demultiplexing of the reads that were barcoded. When demultiplexing barcoded rads, we can use the --discard_middle (this is always active when demultiplexing). This is useful if there is a read with a middle adapter, this means it is highly likely it is chimeric reads. Chimeric reads, are also known as split reads, which are raeds that overlaps a DNA double strand breakingpoint.\n",
    "\n",
    "8-03-25\n",
    "Porechop can be modified with how you want it to align, trim and demultiplex.\n",
    "cons:\n",
    " - The part of the adapter-seach is increasingly slow.\n",
    " - It does only adapter search on subset of reads, so this means there can be problems with non-randomly ordered read sets\n",
    " - As many adapter share common sequence, it is possible that porechop finds the wrong adapter (you can give a kit or adapter with the porechop so it won't be an issue)\n",
    " - adapter sequence could be not properly basecalled, so this could result in inconsistent sequence.\n",
    "\n",
    "Porechop have to be installed, so look at the github link and follow the steps on how to download it\n",
    "\n",
    "porechop ref: https://github.com/rrwick/Porechop?tab=readme-ov-file\n",
    "\n",
    "### Other tools \n",
    "\n",
    "As fastqc is not suitable for MinION reads, it is suggested to use another tool.\n",
    "The tool we could use is; \n",
    "minion_qc : This tool is fast and effective for our data. It can handle big data set, it is written in R. This tool givevs a range of diagnostic plots and data for quality control. \n",
    "nano_qc: This tool can handle long read sequencing and replicate some of the same plots that fastQC makes. This can be installed via bioconda and with pip.\n",
    "toulligQC: This tool is made especially for making QC analyses minION data. It is relatively new and not used by a lot of people.\n",
    "fastplong: fast preprocesser and does quality control for long reads.\n",
    "fastq-scan : gives summary statistics of an input fastq in json.\n",
    "\n",
    "minion_qc: https://github.com/roblanf/minion_qc (multiqc has minion_qc modules)\n",
    "nano_qc: https://github.com/wdecoster/nanoQC\n",
    "toullingQC ling: https://github.com/GenomiqueENS/toulligQC\n",
    "fastq-scan: https://github.com/rpetit3/fastq-scan\n",
    "\n"
   ]
  }
 ],
 "metadata": {
  "language_info": {
   "name": "python"
  }
 },
 "nbformat": 4,
 "nbformat_minor": 2
}
