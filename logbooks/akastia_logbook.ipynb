{
 "cells": [
  {
   "cell_type": "markdown",
   "metadata": {},
   "source": [
    "# Metagenomics"
   ]
  },
  {
   "cell_type": "markdown",
   "metadata": {},
   "source": [
    "## Introduction\n"
   ]
  },
  {
   "cell_type": "markdown",
   "metadata": {},
   "source": [
    "### Data\n",
    "\n",
    "The microbiome soil data was collected by the KCBBE intern Ariana. The MinION data consists of 16S and WGS."
   ]
  },
  {
   "cell_type": "markdown",
   "metadata": {},
   "source": [
    "### Research question\n",
    "This research aims to answer the question, how does the PHA/PHB (?) powder and pellets impact the microbiome of the soil?"
   ]
  },
  {
   "cell_type": "markdown",
   "metadata": {},
   "source": [
    "## Tools\n",
    "\n",
    "### Porechop\n",
    "Porechop is a tool that finds and removes adapters from Oxford Nanopore reads, which means MinION reads. This tool supports demultiplexing of the reads that were barcoded. When demultiplexing barcoded rads, we can use the --discard_middle. This is useful if there is a read with a middle adapter, it is highly likely it is chimeric reads. Chimeric reads, are also known as split reads, which are raeds that overlaps a DNA double strand breakingpoint\n"
   ]
  }
 ],
 "metadata": {
  "language_info": {
   "name": "python"
  }
 },
 "nbformat": 4,
 "nbformat_minor": 2
}
