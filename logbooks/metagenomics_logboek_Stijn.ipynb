{
 "cells": [
  {
   "cell_type": "markdown",
   "source": [
    "# Metagenomics"
   ],
   "metadata": {
    "collapsed": false
   },
   "id": "a556d52fd93e6702"
  },
  {
   "cell_type": "markdown",
   "source": [
    "## Intro\n",
    "\n",
    "Vervuiling is een groot probleem in de moderne samenleving en een van de grootste bijdrager daarbij is plastic afval. Gelukkig is daar een alternatief voor gevonden: Bioplastic. Bioplastics zouden beter plastic zijn dan plastic, omdat in tegenstelling tot plastic bioplastics zijn gemaakt van biologisch afbreekbare materialen. PHA is hier een goed voorbeeld van, die breekt binnen 90 dagen helemaal af in basis grond. Maar dat betekend niet dat bioplastic perfect is, het kan nog steeds schadelijk zijn voor de grond waar het in beland. Daarom gaan wij hier onderzoeken wat voor effect PHA heeft op micro-organismen in de grond.\n"
   ],
   "metadata": {
    "collapsed": false
   },
   "id": "3e4ff6c1b53def80"
  },
  {
   "cell_type": "markdown",
   "source": [
    "## Data\n",
    "\n",
    "We hebben minION data met drie soorten sample: controle, met bioplastic pallets en met bioplastic poeder."
   ],
   "metadata": {
    "collapsed": false
   },
   "id": "dae505b6027b6c3e"
  },
  {
   "cell_type": "markdown",
   "source": [
    "## Tool analyse"
   ],
   "metadata": {
    "collapsed": false
   },
   "id": "8ed7a1fbf2148332"
  },
  {
   "cell_type": "markdown",
   "source": [
    "*8-3-2025*\n",
    "### PEAR\n",
    "\n",
    "PEAR is een paired-end read merger die reads samenvoegd tot een stuk DNA. PEAR heeft een extreem lage false positive rate volgens de [github pagina](https://github.com/tseemann/PEAR). Vanwege deze positieve aspecten wordt PEAR veel gebruikt met metagenomics illumina data.\n",
    "PEAR kan worden geinstalleerd via [bioconda](https://anaconda.org/bioconda/pear). \n",
    "Maar het blijkt dat alle data die wij hebben gekregen minION data is en wij geen illumina data hebben, daarom kunnen wij PEAR niet gebruiken."
   ],
   "metadata": {
    "collapsed": false
   },
   "id": "b40236507a16b778"
  },
  {
   "cell_type": "markdown",
   "source": [
    "*10-3-2025*\n",
    "### Nanoplot\n",
    "\n",
    "Nanoplot is een kwality control tool voor nanopore data(bijv minION), het neemt een input bestand die wordt gegenereerd door minION tijdens het sequencing genaamd: sequencing_summary.txt. Doordat maar een bestand gebruikt voor het maken van figuren is de tool heel snel. Als output genereert Nanoplot meerdere bestanden die worden aangegeven bijv. fastq, sorted bam en fasta bestanden(https://github.com/wdecoster/NanoPlot)\n",
    "Nanoplot zit in [bioconda](https://anaconda.org/bioconda/r-nanopore).\n",
    "Verder is Nanoplot niet heel speciaal, het is handig om even te kijken naar hoe de data er uitziet maar het visualiseert niet meer daarnaast."
   ],
   "metadata": {
    "collapsed": false
   },
   "id": "be18cea69f4adb37"
  },
  {
   "cell_type": "markdown",
   "source": [
    "### minIONQC\n",
    "minIONQC is vergelijkbaar met Nanoplot vanwege hetzelfde bestand nemen als input en vergelijkbare output bestanden genereren. De reden om minIONQC te gebruiken is omdat minIONQC ook flow cell analyse geeft als output.[Documentatie](https://github.com/roblanf/minion_qc)."
   ],
   "metadata": {
    "collapsed": false
   },
   "id": "79434ee38c5380c4"
  },
  {
   "cell_type": "markdown",
   "source": [
    "\n",
    "### pycoQC\n",
    "pycoQC gebruikt net als minIONQC en Nanoplot een sequencing_summary.txt om figuren te genereren. De figuren van pycoQC zijn interactief en zitten in een jupyter notebook. Verder geeft het dezelfde soort plots als Nanoplot. [Documentatie](https://a-slide.github.io/pycoQC/)."
   ],
   "metadata": {
    "collapsed": false
   },
   "id": "5ea3700983df712f"
  },
  {
   "cell_type": "markdown",
   "source": [
    "*11-3-2025*\n",
    "### welke van de drie?\n",
    "Als basis is het goed om te kiezen tussen pycoQC en Nanoplot, minIONQC moet alleen gebruikt worden voor extra flow cell analyse. Het beste lijkt mij om gewoon Nanoplot te gebruiken, omdat er al wat flow cell analyse lijkt te zijn en dat niet heel relevant is voor ons project en nonoplot direct werkt op de fastq files, wat mij makkelijker lijkt."
   ],
   "metadata": {
    "collapsed": false
   },
   "id": "8eda5ca7b805a8d0"
  },
  {
   "cell_type": "markdown",
   "source": [
    "### Keuze\n",
    "Het blijkt dat er al quality control is uitgevoerdt op alle data, maar wij willen nog wel de quality control controleren. De tool die was gebruikt voor de quality control was NanoQC, dus die gaan wij niet gebruiken. In te plaats daarvan gebruiken wij MinionQC, omdat wij de extra flow cell analyse willen zien."
   ],
   "metadata": {
    "collapsed": false
   },
   "id": "721d4cf48b30994d"
  },
  {
   "cell_type": "markdown",
   "source": [
    "*3-14-2025*\n",
    "\n",
    "### Begin inlezen minimap\n",
    "\n",
    "minimap2 is een readmapping tool die data aligned door overlaps te vinden tussen lange reads. Dit doet het efficient en zonder veel geheugen te gebruiken door het gebruik von k-mers (meer context in het logboek van [Tai](./tai_logbook.ipynb)). Vanwege deze kwaliteiten is er besloten om minimap2 te gebruiken.\n",
    "\n",
    "Er is een referentie database nodig, hiervoor staat een bestand op assemblix: \"/data/dataprocessing/MinIONData/all_bacteria.mmi\". In dit bestand staan alle bekende bacterie genomen.\n",
    " \n",
    "Ik gebruik het allign commando:\n",
    "\n",
    "```bash\n",
    "minimap2 -a ref.mmi reads.fq > alignment.sam\n",
    "```\n",
    "\n",
    "bronnen:\n",
    "https://github.com/lh3/minimap2\n",
    "https://lh3.github.io/minimap2/minimap2.html\n",
    " "
   ],
   "metadata": {
    "collapsed": false
   },
   "id": "a537847913a47cc4"
  },
  {
   "cell_type": "markdown",
   "source": [
    "*3-16-2025*\n",
    "\n",
    "Doel: maak minimap2 rule.\n",
    "\n",
    "Voor de rule neem ik code 99 van barcode01 als voorbeeld voor experimenteren met de rule. In de config noem ik deze \"EXAMPLE_SAMPLE\n",
    "\n",
    "Eind: Ik heb nu het skelet van een rule met de belangrijkste aspecten maar zonder functionaliteit.\n",
    "\n",
    "*3-18-2025*\n",
    "Na het maken van een minimap2 rule lijkt er een onverwachte error te zijn, omdat het de input file niet krijgt.\n",
    "De error is nu opgelost het wat een fout in het expand commando met de extensies. \n",
    "\n",
    "Nu wil ik andere dingen toevoegen aan de rule zoals log en conda config. Ik moet ook nog het commando uitbreiden om alle files te gebruiken van alle barcodes.\n",
    "\n",
    "*3-20-2025*\n",
    "Na overleg met de anderen hebben wij besloten om kraken2 te gebruiken in te plaats van minimap2 vanwege kraken2's betere werking op 16S data. Om deze reden ga ik mijn minimap2 rule omzetten naar een Braken rule terwijl [Tai](./tai_logbook.ipynb) bezig gaat met de kraken2 rule.\n"
   ],
   "metadata": {
    "collapsed": false
   },
   "id": "922d3f067ef97047"
  },
  {
   "cell_type": "markdown",
   "source": [
    "## Bracken\n",
    "\n",
    "\n",
    "[officiele handleiding](https://ccb.jhu.edu/software/bracken/index.shtml?t=manual)\n",
    "[Documentatie](https://github.com/jenniferlu717/Bracken)\n",
    "\n",
    "Bracken staat op [bioconda](https://anaconda.org/bioconda/bracken)"
   ],
   "metadata": {
    "collapsed": false
   },
   "id": "e2744cbd1e8fdb03"
  },
  {
   "cell_type": "markdown",
   "source": [],
   "metadata": {
    "collapsed": false
   },
   "id": "670a40480d173339"
  }
 ],
 "metadata": {
  "kernelspec": {
   "display_name": "Python 3",
   "language": "python",
   "name": "python3"
  },
  "language_info": {
   "codemirror_mode": {
    "name": "ipython",
    "version": 2
   },
   "file_extension": ".py",
   "mimetype": "text/x-python",
   "name": "python",
   "nbconvert_exporter": "python",
   "pygments_lexer": "ipython2",
   "version": "2.7.6"
  }
 },
 "nbformat": 4,
 "nbformat_minor": 5
}
