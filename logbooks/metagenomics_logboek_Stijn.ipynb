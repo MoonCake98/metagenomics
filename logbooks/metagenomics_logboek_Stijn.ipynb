{
 "cells": [
  {
   "cell_type": "markdown",
   "source": [
    "# Metagenomics"
   ],
   "metadata": {
    "collapsed": false
   },
   "id": "a556d52fd93e6702"
  },
  {
   "cell_type": "markdown",
   "source": [
    "## Intro\n",
    "\n",
    "Vervuiling is een groot probleem in de moderne samenleving en een van de grootste bijdrager daarbij is plastic afval. Gelukkig is daar een alternatief voor gevonden: Bioplastic. Bioplastics zouden beter plastic zijn dan plastic, omdat in tegenstelling tot plastic bioplastics zijn gemaakt van biologisch afbreekbare materialen. PHA is hier een goed voorbeeld van, die breekt binnen 90 dagen helemaal af in basis grond. Maar dat betekend niet dat bioplastic perfect is, het kan nog steeds schadelijk zijn voor de grond waar het in beland. Daarom gaan wij hier onderzoeken wat voor effect PHA heeft op micro-organismen in de grond.\n"
   ],
   "metadata": {
    "collapsed": false
   },
   "id": "3e4ff6c1b53def80"
  },
  {
   "cell_type": "markdown",
   "source": [
    "## Data\n",
    "\n",
    "We hebben minION data met drie soorten sample: controle, met bioplastic pallets en met bioplastic poeder."
   ],
   "metadata": {
    "collapsed": false
   },
   "id": "dae505b6027b6c3e"
  },
  {
   "cell_type": "markdown",
   "source": [
    "## Tool analyse\n",
    "\n",
    "*8-3-2025 tot 11-3-2025*\n"
   ],
   "metadata": {
    "collapsed": false
   },
   "id": "8ed7a1fbf2148332"
  },
  {
   "cell_type": "markdown",
   "source": [
    "### PEAR\n",
    "\n",
    "PEAR kan worden geinstalleerd via bioconda. \n",
    "Afgeleidt van de [github pagina](https://github.com/tseemann/PEAR) en de [documentatie](https://cme.h-its.org/exelixis/web/software/pear/doc.html) lijkt het dat PEAR van illumina reads kijkt. \n",
    "In dit [artikel](https://cme.h-its.org/exelixis/web/software/pear/doc.html) staat dat PEAR kijkt naar overlap op foward en reverse reads en die samenvoegd, maar onze data bestaat alleen maar uit minION data. PEAR is dus niet relevant voor ons onderzoek"
   ],
   "metadata": {
    "collapsed": false
   },
   "id": "b40236507a16b778"
  },
  {
   "cell_type": "markdown",
   "source": [
    "### Nanoplot\n",
    "Nanoplot zit in bioconda.\n",
    "Nanoplot neemt als input data afkomstig van nanopores(inculusief minION) in meerdere soorten format, bijv. fastq, sorted bam en fasta bestanden(https://github.com/wdecoster/NanoPlot). HIevan worden plots gemaakt en een html summary + een statestiek raport. \n",
    "Deze tool lijkt fastqc te vervangen voor nanopore data, omdat fastqc vrij langzaam kan zijn bij nanopore data.\n"
   ],
   "metadata": {
    "collapsed": false
   },
   "id": "be18cea69f4adb37"
  },
  {
   "cell_type": "markdown",
   "source": [
    "### Optioneel: minIONQC\n",
    "voor flow cell analyse, geeft extra betrouwbaarheid. Deze gebruikt een sequencing_summary.txt om figuren te genereren in te plaats van direct op de fastq files."
   ],
   "metadata": {
    "collapsed": false
   },
   "id": "79434ee38c5380c4"
  },
  {
   "cell_type": "markdown",
   "source": [
    "### pycoQC\n",
    "gebruikt net als minIONQC sequencing_summary.txt om figuren te genereren. De figuren van pycoQC zijn interactief. Verder geeft het dezelfde soort plots als Nanoplot. [documentatie](https://a-slide.github.io/pycoQC/)"
   ],
   "metadata": {
    "collapsed": false
   },
   "id": "5ea3700983df712f"
  },
  {
   "cell_type": "markdown",
   "source": [
    "### welke van de drie?\n",
    "Als basis is het goed om te kiezen tussen pycoQC en Nanoplot, minIONQC moet alleen gebruikt worden voor extra flow cell analyse. Het beste lijkt mij om gewoon Nanoplot te gebruiken, omdat er al wat flow cell analyse lijkt te zijn en dat niet heel relevant is voor ons project en nonoplot direct werkt op de fastq files, wat mij makkelijker lijkt."
   ],
   "metadata": {
    "collapsed": false
   },
   "id": "8eda5ca7b805a8d0"
  },
  {
   "cell_type": "markdown",
   "source": [
    "*3-14-2025*\n",
    "\n",
    "Begin inlezen minimap\n",
    "\n",
    "als ref.mmi is er een bestand op assemblix onder \"/data/dataprocessing/MinIONData/all_bacteria.mmi\" die alle bacterie genomen bevat. \n",
    "\n",
    "voorbeeld commando:\n",
    "\n",
    "```bash\n",
    "minimap2 -a ref.mmi reads.fq > alignment.sam\n",
    "```\n",
    "\n",
    "https://github.com/lh3/minimap2\n",
    " "
   ],
   "metadata": {
    "collapsed": false
   },
   "id": "a537847913a47cc4"
  },
  {
   "cell_type": "markdown",
   "source": [
    "*3-16-2025*\n",
    "\n",
    "Doel: maak minimap2 rule"
   ],
   "metadata": {
    "collapsed": false
   },
   "id": "922d3f067ef97047"
  },
  {
   "cell_type": "markdown",
   "source": [],
   "metadata": {
    "collapsed": false
   },
   "id": "e2744cbd1e8fdb03"
  },
  {
   "cell_type": "markdown",
   "source": [],
   "metadata": {
    "collapsed": false
   },
   "id": "670a40480d173339"
  }
 ],
 "metadata": {
  "kernelspec": {
   "display_name": "Python 3",
   "language": "python",
   "name": "python3"
  },
  "language_info": {
   "codemirror_mode": {
    "name": "ipython",
    "version": 2
   },
   "file_extension": ".py",
   "mimetype": "text/x-python",
   "name": "python",
   "nbconvert_exporter": "python",
   "pygments_lexer": "ipython2",
   "version": "2.7.6"
  }
 },
 "nbformat": 4,
 "nbformat_minor": 5
}
