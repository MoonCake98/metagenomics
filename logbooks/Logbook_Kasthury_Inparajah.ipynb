{
 "cells": [
  {
   "cell_type": "markdown",
   "metadata": {},
   "source": [
    "# **Logbook metagenomics project**\n",
    "#### By Kasthury Inparajah"
   ]
  },
  {
   "cell_type": "markdown",
   "metadata": {},
   "source": [
    "### **Introduction research**"
   ]
  },
  {
   "cell_type": "markdown",
   "metadata": {},
   "source": [
    "### **Date: 27-02-2025**\n",
    "#### **Meeting with client**\n",
    "##### We met our client and asked him about the project and some background information.\n",
    "<br>"
   ]
  },
  {
   "cell_type": "markdown",
   "metadata": {},
   "source": [
    "### **Date: 28-2-2025**\n",
    "#### **Research PHA and other bioplastic**\n",
    "##### Searched and read some articles about PHA and other bioplastics.\n",
    "<br>"
   ]
  },
  {
   "cell_type": "markdown",
   "metadata": {},
   "source": [
    "### **Date: 5-3-2025**\n",
    "#### **Assigned task: research the tool DADA2**\n",
    "##### Got a task assigned: do some research about the tool DADA2 and write a short overview for it. Deadline is 9-3-2025 12:59 PM.\n",
    "<br>"
   ]
  },
  {
   "cell_type": "markdown",
   "metadata": {},
   "source": [
    "### **Date: 6-3-2025**\n",
    "#### **Search similair bioplastic projects**\n",
    "##### Searched for similiar bioplastic projects for referention.\n",
    "<br>"
   ]
  },
  {
   "cell_type": "markdown",
   "metadata": {},
   "source": [
    "### **Date 7-3-2025**\n",
    "#### **Stand-up meeting and research DADA2**\n",
    "##### We held a stand-up meeting to update about the groups process. Searched for sources about the DADA2 tool.\n",
    "<br>"
   ]
  },
  {
   "cell_type": "markdown",
   "metadata": {},
   "source": [
    "### **Date 8-3-2025**\n",
    "#### **Research DADA2**\n",
    "##### Searched for sources about the DADA2 tool and made an overview in Word. \n",
    "<br>"
   ]
  },
  {
   "cell_type": "markdown",
   "metadata": {},
   "source": [
    "### **Date: 9-3-2025**\n",
    "#### **Continued writing overview DADA2**\n",
    "##### Continued writing the overview of DADA2 and uploaded in Teams before deadline. \n",
    "<br>"
   ]
  },
  {
   "cell_type": "markdown",
   "metadata": {},
   "source": [
    "### **Date: 13-3-2025**\n",
    "#### **Made a .ipynb format of DADA2 overview**\n",
    "##### Made a .ipynb format of the DADA2 overview and deleted the .docx format. \n",
    "<br>"
   ]
  }
 ],
 "metadata": {
  "language_info": {
   "name": "python"
  }
 },
 "nbformat": 4,
 "nbformat_minor": 2
}
