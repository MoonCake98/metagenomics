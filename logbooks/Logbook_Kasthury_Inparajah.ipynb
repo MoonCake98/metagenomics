{
 "cells": [
  {
   "cell_type": "markdown",
   "metadata": {},
   "source": [
    "# **Logbook metagenomics project**\n",
    "#### By Kasthury Inparajah"
   ]
  },
  {
   "cell_type": "markdown",
   "metadata": {},
   "source": [
    "### **Introduction research**"
   ]
  },
  {
   "cell_type": "markdown",
   "metadata": {},
   "source": [
    "### **Date: 27-02-2025**\n",
    "#### **Meeting with client**\n",
    "##### We met our client and asked him about the project and some background information.\n",
    "##### This project is about the effect of bioplastics on the microbiogical state of soil. All of the data is in MinION and it consists of 16S and WGS (Whole Genome Sequencing) data. \n",
    "##### There are 3 test groups: \n",
    "* ##### GC samples (controle group without PHB)\n",
    "* ##### PHB (finely grounded plasic)\n",
    "* ##### PHBV (coarsely grounded plastic)"
   ]
  },
  {
   "cell_type": "markdown",
   "metadata": {},
   "source": [
    "### **Date: 28-2-2025**\n",
    "#### **Research PHA and other bioplastic**\n",
    "##### Searched and read some articles about PHA and other bioplastics.\n",
    "<br>"
   ]
  },
  {
   "cell_type": "markdown",
   "metadata": {},
   "source": [
    "### **Date: 5-3-2025**\n",
    "#### **Assigned task: research the tool DADA2**\n",
    "##### Got a task assigned: do some research about the tool DADA2 and write a short overview for it. Deadline is 9-3-2025 12:59 PM.\n",
    "<br>"
   ]
  },
  {
   "cell_type": "markdown",
   "metadata": {},
   "source": [
    "### **Date: 6-3-2025**\n",
    "#### **Search similair bioplastic projects**\n",
    "##### Searched for similiar bioplastic projects for referention.\n",
    "<br>"
   ]
  },
  {
   "cell_type": "markdown",
   "metadata": {},
   "source": [
    "### **Date 7-3-2025**\n",
    "#### **Stand-up meeting and research DADA2**\n",
    "##### We held a stand-up meeting to update about the groups process. Searched for sources about the DADA2 tool.\n",
    "<br>"
   ]
  },
  {
   "cell_type": "markdown",
   "metadata": {},
   "source": [
    "### **Date 8-3-2025**\n",
    "#### **Research DADA2**\n",
    "##### Searched for sources about the DADA2 tool and made an overview in Word. \n",
    "<br>"
   ]
  },
  {
   "cell_type": "markdown",
   "metadata": {},
   "source": [
    "### **Date: 9-3-2025**\n",
    "#### **Continued writing overview DADA2**\n",
    "##### Continued writing the overview of DADA2 and uploaded in Teams before deadline. \n",
    "<br>"
   ]
  },
  {
   "cell_type": "markdown",
   "metadata": {},
   "source": [
    "### **Date: 13-3-2025**\n",
    "#### **Made a .ipynb format of DADA2 overview**\n",
    "##### Made a .ipynb format of the DADA2 overview and deleted the .docx format. \n",
    "##### This is the DADA2 overview:"
   ]
  },
  {
   "cell_type": "markdown",
   "metadata": {},
   "source": [
    "# <span style=\"color:red\">**DADA2**</span>\n",
    "### ***Fast and accurate sample inference from amplicon data with single-nucleotide resolution***\n",
    "<br>"
   ]
  },
  {
   "cell_type": "markdown",
   "metadata": {},
   "source": [
    "### **Current version:** \n",
    "#### v.1.26 (as of 3-9-2025)\n",
    "<br>"
   ]
  },
  {
   "cell_type": "markdown",
   "metadata": {},
   "source": [
    "### **A short introduction to DADA2**\n",
    "[DADA2](https://benjjneb.github.io/dada2/) is an open-source software package designed to correct errors in Illumina-sequenced DNA data. It is primarily used to analyze amplicon data, which consists of DNA sequences obtained through PCR amplification.\n",
    "\n",
    "The amplicon sequencing process causes errors to sequencing data and these error severely complicate the interpretation of the results. \n",
    "\n",
    "To solve this problem, DADA2 implements a novel algorithm that models the errors, which are introduced during amplicon sequencing. This error model will be used to infer the true sample composition.\n",
    "\n",
    "The DADA2 method is more sensitive and specific than the [OTU](https://en.wikipedia.org/wiki/Operational_taxonomic_unit) (Operational Taxonomic Unit) method. DADA2 detects real biological variation which are missed by OUT methods while outputting fewer spurious sequences (wrong/unwanted sequences). "
   ]
  },
  {
   "cell_type": "markdown",
   "metadata": {},
   "source": [
    "### **DADA2 pipeline**\n",
    "**1. Input**\n",
    "<br>\n",
    "The input for DADA2 is a set of demultiplexed FASTQ files, meaning each sample has its own individual FASTQ file (or two files for paired-end sequencing) from an amplicon sequencing study. If demultiplexing has not been performed yet, tools like QIIME’s [split_libraries_fastq.py](http://qiime.org/scripts/split_libraries_fastq.html) and [split_sequence_file_on_sample_ids.py](http://qiime.org/scripts/split_sequence_file_on_sample_ids.html), or the idemp utility can be used. \n",
    "<br><br>\n",
    "<span style=\"color:red\">***NOTE: Non-biological bases such as PCR primers should be removed before proceeding***</span>"
   ]
  },
  {
   "cell_type": "markdown",
   "metadata": {},
   "source": [
    "**2. Quality control (plotQualityProfile())**\n",
    "<br>\n",
    "DADA2 has a built-in plotQualityProfile() function, which is an alternative to FastQC. It allows the user to visually inspect the quality of the reads without using an external tool.\n",
    "\n",
    "Since DADA2 natively handles compressed (.gz) files, it can perform quality control directly without the need to unpack them first.\n"
   ]
  },
  {
   "cell_type": "markdown",
   "metadata": {},
   "source": [
    "**3. Filter and Trim (filterAndTrim())**\n",
    "<br>\n",
    "With the filterAndTrim() function, DADA2 allows the user to filter and trim the sequencing reads to remove low-quality sequences and reduce errors. This step is crucial to ensure that only high-quality data is used in the analysis. The filtered sequences are saved as gzipped FASTQ files to save disk space."
   ]
  },
  {
   "cell_type": "markdown",
   "metadata": {},
   "source": [
    "**4. Dereplicate (derepFastq())**\n",
    "<br>\n",
    "This function is used to group identical sequences together (dereplication) by finding exact matches in the dataset and counting the occurrences. This step reduces computational load and improves analysis efficiency."
   ]
  },
  {
   "cell_type": "markdown",
   "metadata": {},
   "source": [
    "**5. Learn Error Rates (learnErrors())**\n",
    "<br>\n",
    "The DADA2 algorithm is used to estimate the error rates in the sequencing data, as sequencing technologies can introduce errors that affect the identification of true biological sequences. \n",
    "\n",
    "The estimation is done by modeling errors, such as substitutions, insertions, and deletions, based on the actual data. This function uses the quality scores associated with each base to identify where errors are most likely to occur. \n",
    "\n",
    "By estimating error rates directly from the data, this method can adapt to different sequencing runs and protocols, rather than relying on fixed error models. "
   ]
  },
  {
   "cell_type": "markdown",
   "metadata": {},
   "source": [
    "**6. Infer sample composition (dada(…))**\n",
    "<br>\n",
    "The core method of DADA2 focuses on sample composition inference, which is the process of accurately identifying the true biological sequences present in a sample.\n",
    "\n",
    "The DADA2 algorithm is more sensitive and specific than traditional OTU (Operational Taxonomic Unit) methods. It can detect subtle sequence differences and distinguish true biological variants from sequencing errors. \n",
    "\n",
    "Unlike OTU-based methods, which cluster sequences, DADA2 uses [denoising](https://docs.qiime2.org/jupyterbooks/cancer-microbiome-intervention-tutorial/020-tutorial-upstream/040-denoising.html) to correct sequencing errors and infer the true biological composition at a higher resolution. The output consists of sequence variants (SVs), representing the true biological sequences, rather than OTUs grouped by similarity."
   ]
  },
  {
   "cell_type": "markdown",
   "metadata": {},
   "source": [
    "**7. Merge forward/reverse reads (mergePairs…())**\n",
    "<br>\n",
    "The mergePairs() function combines the forward and reverse reads into an single, complete sequence. This is done by matching the overlapping parts (more than 20 bp) of the forward and reverse reads. If the reads don’t overlap enough or don’t match well, they will be discarded. "
   ]
  },
  {
   "cell_type": "markdown",
   "metadata": {},
   "source": [
    "**8. Remove chimeras (removeBimeraDenovo())**\n",
    "<br>\n",
    "The removeBimeraDenovo() function is used to identify and remove chimeric sequences, which are spurious sequences formed during PCR amplification when an incomplete amplicon primes the next amplification cycle. These chimeras consist of fragments from different sequences, leading to false results. "
   ]
  },
  {
   "cell_type": "markdown",
   "metadata": {},
   "source": [
    "**9. Make a sequence table (makeSequenceTable())**\n",
    "<br>\n",
    "The makeSequenceTable() function combines the inferred sequence variants from all of the samples into a unified table, where rows represent samples and columns represent unique, non-chimeric sequences. \n",
    "\n",
    "After the table is created, the function removeBimeraDenovo() is applied again to remove any remaining chimeric sequences. \n",
    "\n",
    "The result is a clean, non-chimeric sequence table, similar to an OTU table, which can be used for downstream analysis, often with the phyloseq package for further exploration of sample composition.\n",
    "<br>"
   ]
  },
  {
   "cell_type": "markdown",
   "metadata": {},
   "source": [
    "___\n",
    "### **Advantages of DADA2**\n",
    "*\t**High accuracy**: Identifies exact DNA sequences instead of approximating groups\n",
    "<br>\n",
    "*\t**Better taxonomic resolution**: Distinguishes closely related species more precisely\n",
    "<br>\n",
    "*\t**Integration QIIME2**: DADA2 works well with QIIME2, which is a widely used microbiome analysis tool"
   ]
  },
  {
   "cell_type": "markdown",
   "metadata": {},
   "source": [
    "### **Extra**\n",
    "* [A detailed tutorial about DADA2](https://www.bioconductor.org/packages/devel/bioc/vignettes/dada2/inst/doc/dada2-intro.html)"
   ]
  },
  {
   "cell_type": "markdown",
   "metadata": {},
   "source": [
    "* **Installation**\n",
    "<br>\n",
    "Binaries for the current version of DADA2 are available from Bioconductor version 3.16. To install the package, start R (version 4.2.0 or newer). \n",
    "Enter the following in R:"
   ]
  },
  {
   "cell_type": "markdown",
   "metadata": {},
   "source": [
    "### **Important to know**\n",
    "DADA2 can not be used in our project since this tool is specifically made for Illumina-sequenced DNA data. "
   ]
  },
  {
   "cell_type": "code",
   "execution_count": null,
   "metadata": {},
   "outputs": [],
   "source": [
    "if (!requireNamespace(\"BiocManager\", quietly = TRUE))\n",
    "    install.packages(\"BiocManager\")\n",
    "BiocManager::install(\"dada2\", version = \"3.16\")"
   ]
  },
  {
   "cell_type": "markdown",
   "metadata": {},
   "source": [
    "#### **Sources**\n",
    "1. https://benjjneb.github.io/dada2/\n",
    "2. https://www.nature.com/articles/nmeth.3869 \n",
    "3. https://callahanlab.cvm.ncsu.edu/software/ \n",
    "4. https://www.bioconductor.org/packages/devel/bioc/vignettes/dada2/inst/doc/dada2-intro.html"
   ]
  },
  {
   "cell_type": "markdown",
   "metadata": {},
   "source": [
    "### **Date: 14-3-2025**\n",
    "#### **Modified DADA2 overview & started looking for replacement**\n",
    "##### Modified the DADA2 overview by adding a the conclusion that this tool can not be used in this project because of incompitability (our data is from MinION and DADA2 only works with Illumina-sequenced DNA data). Started to look for a replacement for DADA2. \n",
    "<br>"
   ]
  },
  {
   "cell_type": "markdown",
   "metadata": {},
   "source": [
    "### **Date: 15-3-2025**\n",
    "#### **Looking for replacement DADA2**\n",
    "##### Since the data is already trimmen and the adapters are removed, I do not see a valuable reason to use a tool that replaces DADA2. \n",
    "<br>"
   ]
  },
  {
   "cell_type": "markdown",
   "metadata": {},
   "source": [
    "### **Date: 17-3-2025**\n",
    "#### **Research about taxonomy and stand-up meeting**\n",
    "#### \n",
    "<br>"
   ]
  },
  {
   "cell_type": "markdown",
   "metadata": {},
   "source": [
    "### **Date: 18-3-2025**\n",
    "#### **Started making a pipeline for 16S data + looking for tools for data visualization for DADA2 replacement**\n",
    "<br>"
   ]
  },
  {
   "cell_type": "markdown",
   "metadata": {},
   "source": [
    "### **Date: 20-3-2025**\n",
    "#### **Continuing making pipeline for 16S data + looked for tools pathway**\n",
    "<br>"
   ]
  },
  {
   "cell_type": "markdown",
   "metadata": {},
   "source": [
    "### **Date: 21-3-2025**\n",
    "#### **Finished making pipeline 16S data started and finshed pipeline WGS data**\n",
    "<br>"
   ]
  },
  {
   "cell_type": "markdown",
   "metadata": {},
   "source": [
    "### **Date: 22-3-2025**\n",
    "#### **Found replacement for DADA2 = MEGAN6**\n",
    "MEGAN6 is replacement for DADA2. This tool is great for visualisation of taxa and pathway. \n",
    "<br>"
   ]
  },
  {
   "cell_type": "markdown",
   "metadata": {},
   "source": [
    "### **Date: 23-3-2025**\n",
    "#### **Background research MEGAN6**\n",
    "Looked for samples and projects in which MEGAN6 was used, to see how we can integrate it into our pipeline.\n",
    "<br>"
   ]
  },
  {
   "cell_type": "markdown",
   "metadata": {},
   "source": [
    "### **Date: 24-3-2025**\n",
    "#### **Started working with MEGAN6 + started writing script**\n",
    "Tried to run MEGAN6, but it was not working. Looked up on the web for solution. \n",
    "<br>"
   ]
  },
  {
   "cell_type": "markdown",
   "metadata": {},
   "source": [
    "### **Date: 25-3-2025**\n",
    "#### **MEGAN6 is not working properly, trying to find a solution + stand-up + tried to find error in script**"
   ]
  },
  {
   "cell_type": "markdown",
   "metadata": {},
   "source": [
    "### **Date: 27-3-2025**\n",
    "#### **Continued trying to fix MEGAN6 + stand-up**\n",
    "While I was looking for the reason why MEGAN6 was not working properly I found out it was because of the format of out data which is .bracken. MEGAN needs a RMA6 file, so i tried to find a way to convert our file into RMA6 format"
   ]
  },
  {
   "cell_type": "markdown",
   "metadata": {},
   "source": [
    "### **Date: 28-3-2025**\n",
    "#### **Looked for ways to convert our data file into RMA6 for MEGAN6, tried to reinstall MEGAN6 again**\n",
    "I thought I might have not have installen MEGAN6 the right way so i deleted and reisntalled is again because I was not able to run the tool with megan -h "
   ]
  },
  {
   "cell_type": "markdown",
   "metadata": {},
   "source": [
    "### **Date: 29-3-2025**\n",
    "#### **Tried to find scripts of other input file formats to use MEGAN6**"
   ]
  },
  {
   "cell_type": "markdown",
   "metadata": {},
   "source": [
    "### **Date: 30-3-2025**\n",
    "#### **Tried to run script on data, but did not have permissions**"
   ]
  },
  {
   "cell_type": "markdown",
   "metadata": {},
   "source": [
    "### **Date: 1-4-2025**\n",
    "#### **Wrote script to convert bracken to tsv**\n",
    "Maybe this will be accepted in MEGAN6. I also found out .bracken to rma6 conversion is not possible."
   ]
  },
  {
   "cell_type": "markdown",
   "metadata": {},
   "source": [
    "### **Date: 2-4-2025**\n",
    "#### **Found out tsv was not really a tsv file, there were spaces in the file**\n",
    "I tried to fix these spaces and modified my script to convert .bracken to .tsv"
   ]
  },
  {
   "cell_type": "markdown",
   "metadata": {},
   "source": [
    "### **Date: 2-4-2025**\n",
    "#### **Found out tsv was not really a tsv file, there were spaces in the file**\n",
    "I tried to fix these spaces and modified my script to convert .bracken to .tsv"
   ]
  },
  {
   "cell_type": "markdown",
   "metadata": {},
   "source": [
    "### **Date: 3-4-2025**\n",
    "**Krona for visualisation**\n",
    "Installed Krona to replace MEGAN6 since this tool was not working. Looked to find samples of how this tool is used in similiar projects. Started writing script"
   ]
  },
  {
   "cell_type": "markdown",
   "metadata": {},
   "source": [
    "### **Date: 4-4-2025**\n",
    "#### **Krona was not working and did not finish work before deadline**"
   ]
  },
  {
   "cell_type": "markdown",
   "metadata": {},
   "source": [
    "### **Date: 5-4-2025**\n",
    "#### **Looked for scripts to visualise bracken an kraken data**\n",
    "I deleted the scripts to convert bracken data, since it wont work.Cleaned up directory to \"restart\" visualization."
   ]
  },
  {
   "cell_type": "markdown",
   "metadata": {},
   "source": [
    "### **Date: 6-4-2025**\n",
    "#### **Found scripts to visualise bracken data**\n",
    "Based on the founded scripts I started to write a script for visualization.  I made a plot for the top 10 taxa of barcode 3. I tried to fine tune the plot and use it as a blue print for the other barcodes. Unfortunelately, the barcodes 2 and 3 gave an error, so i started to debug my script. But in reality the files were corrupted and there were no problems in my script. I asked to re-run bracken angain."
   ]
  },
  {
   "cell_type": "markdown",
   "metadata": {},
   "source": [
    "### **Date: 7-4-2025**\n",
    "#### **barcode 2 and 3 error**\n",
    "Bracken was re-runned again, but the files were again in another format. Since we do not have enough time I decided to excluded these 2 barcodes from my visualization. I made a stacked barplot for all of the taxa combined diveded over the barcodes, but the taxa was about 250, so i decided to only pick the top 20. "
   ]
  },
  {
   "cell_type": "markdown",
   "metadata": {},
   "source": [
    "### **Date: 8-4-2025**\n",
    "#### **Made a stacked barplot and heatmap**\n",
    "I wrote scripts to generate stacked barplots and a heatmap for the taxa. I used colorblind friendly colors for this with the librabry viridis. I fine tuned the plots and heatmap and finished the poster."
   ]
  }
 ],
 "metadata": {
  "language_info": {
   "name": "python"
  }
 },
 "nbformat": 4,
 "nbformat_minor": 2
}
