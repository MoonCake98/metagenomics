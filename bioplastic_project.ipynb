{
 "cells": [
  {
   "cell_type": "markdown",
   "metadata": {},
   "source": [
    "# <span style=\"color:green\"> **Effects of bioplastic on soils microbiome** </span>\n",
    "### <span style=\"color:green\"> A metagenomics analyses of soils micriobiome with different amounts of bioplastic </span>\n",
    "\n",
    "##### By: Akastia Christo, Tai Vo, Stijn Vermeulen & Kasthury Inparajah"
   ]
  },
  {
   "cell_type": "markdown",
   "metadata": {},
   "source": [
    "Intro"
   ]
  },
  {
   "cell_type": "markdown",
   "metadata": {},
   "source": [
    "onderzoeksvraag"
   ]
  },
  {
   "cell_type": "markdown",
   "metadata": {},
   "source": [
    "hypothese"
   ]
  },
  {
   "cell_type": "markdown",
   "metadata": {},
   "source": []
  }
 ],
 "metadata": {
  "language_info": {
   "name": "python"
  }
 },
 "nbformat": 4,
 "nbformat_minor": 2
}
